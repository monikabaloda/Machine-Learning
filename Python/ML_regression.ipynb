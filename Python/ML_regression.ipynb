{
  "nbformat": 4,
  "nbformat_minor": 0,
  "metadata": {
    "kernelspec": {
      "display_name": "Python 3",
      "language": "python",
      "name": "python3"
    },
    "language_info": {
      "codemirror_mode": {
        "name": "ipython",
        "version": 3
      },
      "file_extension": ".py",
      "mimetype": "text/x-python",
      "name": "python",
      "nbconvert_exporter": "python",
      "pygments_lexer": "ipython3",
      "version": "3.8.5"
    },
    "colab": {
      "provenance": []
    }
  },
  "cells": [
    {
      "cell_type": "code",
      "metadata": {
        "id": "hIgVzP7LCh0u"
      },
      "source": [
        "import numpy as np\n",
        "import pandas as pd\n",
        "import matplotlib.pyplot as plt"
      ],
      "execution_count": 1,
      "outputs": []
    },
    {
      "cell_type": "markdown",
      "metadata": {
        "id": "J627UfAdsymT"
      },
      "source": [
        "---\n",
        "# Loading the `nycflights13` datasets\n",
        "This dataset contains information on all the flights departed from New York City in 2013.\n",
        "\n",
        "The [Python nycflights13](https://pypi.org/project/nycflights13/) data package provides the same data as the [R nycflights13](https://cran.r-project.org/web/packages/nycflights13/index.html) package."
      ]
    },
    {
      "cell_type": "code",
      "metadata": {
        "id": "Sf5Y_sA0sdEN",
        "colab": {
          "base_uri": "https://localhost:8080/"
        },
        "outputId": "ed8764cc-7146-4adc-ef8e-529475f55501"
      },
      "source": [
        "# install the package\n",
        "!pip install nycflights13"
      ],
      "execution_count": 2,
      "outputs": [
        {
          "output_type": "stream",
          "name": "stdout",
          "text": [
            "Looking in indexes: https://pypi.org/simple, https://us-python.pkg.dev/colab-wheels/public/simple/\n",
            "Collecting nycflights13\n",
            "  Downloading nycflights13-0.0.3.tar.gz (8.7 MB)\n",
            "\u001b[2K     \u001b[90m━━━━━━━━━━━━━━━━━━━━━━━━━━━━━━━━━━━━━━━━\u001b[0m \u001b[32m8.7/8.7 MB\u001b[0m \u001b[31m29.1 MB/s\u001b[0m eta \u001b[36m0:00:00\u001b[0m\n",
            "\u001b[?25h  Preparing metadata (setup.py) ... \u001b[?25l\u001b[?25hdone\n",
            "Requirement already satisfied: pandas>=0.24.0 in /usr/local/lib/python3.9/dist-packages (from nycflights13) (1.4.4)\n",
            "Requirement already satisfied: numpy>=1.18.5 in /usr/local/lib/python3.9/dist-packages (from pandas>=0.24.0->nycflights13) (1.22.4)\n",
            "Requirement already satisfied: python-dateutil>=2.8.1 in /usr/local/lib/python3.9/dist-packages (from pandas>=0.24.0->nycflights13) (2.8.2)\n",
            "Requirement already satisfied: pytz>=2020.1 in /usr/local/lib/python3.9/dist-packages (from pandas>=0.24.0->nycflights13) (2022.7.1)\n",
            "Requirement already satisfied: six>=1.5 in /usr/local/lib/python3.9/dist-packages (from python-dateutil>=2.8.1->pandas>=0.24.0->nycflights13) (1.16.0)\n",
            "Building wheels for collected packages: nycflights13\n",
            "  Building wheel for nycflights13 (setup.py) ... \u001b[?25l\u001b[?25hdone\n",
            "  Created wheel for nycflights13: filename=nycflights13-0.0.3-py3-none-any.whl size=8732740 sha256=3bd391a772322beadb2118e53e1056351754fa2f53e463658c7d2c5712dd008f\n",
            "  Stored in directory: /root/.cache/pip/wheels/0e/b7/7b/c129c6a2717d8825caa178f3b07e260cfb12c39f95fd165ff1\n",
            "Successfully built nycflights13\n",
            "Installing collected packages: nycflights13\n",
            "Successfully installed nycflights13-0.0.3\n"
          ]
        }
      ]
    },
    {
      "cell_type": "code",
      "metadata": {
        "id": "AwRg3cbXsVQG",
        "colab": {
          "base_uri": "https://localhost:8080/",
          "height": 354
        },
        "outputId": "7e29c225-09ef-42e3-b29c-e1d926832576"
      },
      "source": [
        "# load the `flights` table\n",
        "from nycflights13 import flights\n",
        "print(type(flights))\n",
        "flights.head()"
      ],
      "execution_count": 3,
      "outputs": [
        {
          "output_type": "stream",
          "name": "stdout",
          "text": [
            "<class 'pandas.core.frame.DataFrame'>\n"
          ]
        },
        {
          "output_type": "execute_result",
          "data": {
            "text/plain": [
              "   year  month  day  dep_time  sched_dep_time  dep_delay  arr_time  \\\n",
              "0  2013      1    1     517.0             515        2.0     830.0   \n",
              "1  2013      1    1     533.0             529        4.0     850.0   \n",
              "2  2013      1    1     542.0             540        2.0     923.0   \n",
              "3  2013      1    1     544.0             545       -1.0    1004.0   \n",
              "4  2013      1    1     554.0             600       -6.0     812.0   \n",
              "\n",
              "   sched_arr_time  arr_delay carrier  flight tailnum origin dest  air_time  \\\n",
              "0             819       11.0      UA    1545  N14228    EWR  IAH     227.0   \n",
              "1             830       20.0      UA    1714  N24211    LGA  IAH     227.0   \n",
              "2             850       33.0      AA    1141  N619AA    JFK  MIA     160.0   \n",
              "3            1022      -18.0      B6     725  N804JB    JFK  BQN     183.0   \n",
              "4             837      -25.0      DL     461  N668DN    LGA  ATL     116.0   \n",
              "\n",
              "   distance  hour  minute             time_hour  \n",
              "0      1400     5      15  2013-01-01T10:00:00Z  \n",
              "1      1416     5      29  2013-01-01T10:00:00Z  \n",
              "2      1089     5      40  2013-01-01T10:00:00Z  \n",
              "3      1576     5      45  2013-01-01T10:00:00Z  \n",
              "4       762     6       0  2013-01-01T11:00:00Z  "
            ],
            "text/html": [
              "\n",
              "  <div id=\"df-b9d59adb-d103-41f0-bca4-bd0a7535057e\">\n",
              "    <div class=\"colab-df-container\">\n",
              "      <div>\n",
              "<style scoped>\n",
              "    .dataframe tbody tr th:only-of-type {\n",
              "        vertical-align: middle;\n",
              "    }\n",
              "\n",
              "    .dataframe tbody tr th {\n",
              "        vertical-align: top;\n",
              "    }\n",
              "\n",
              "    .dataframe thead th {\n",
              "        text-align: right;\n",
              "    }\n",
              "</style>\n",
              "<table border=\"1\" class=\"dataframe\">\n",
              "  <thead>\n",
              "    <tr style=\"text-align: right;\">\n",
              "      <th></th>\n",
              "      <th>year</th>\n",
              "      <th>month</th>\n",
              "      <th>day</th>\n",
              "      <th>dep_time</th>\n",
              "      <th>sched_dep_time</th>\n",
              "      <th>dep_delay</th>\n",
              "      <th>arr_time</th>\n",
              "      <th>sched_arr_time</th>\n",
              "      <th>arr_delay</th>\n",
              "      <th>carrier</th>\n",
              "      <th>flight</th>\n",
              "      <th>tailnum</th>\n",
              "      <th>origin</th>\n",
              "      <th>dest</th>\n",
              "      <th>air_time</th>\n",
              "      <th>distance</th>\n",
              "      <th>hour</th>\n",
              "      <th>minute</th>\n",
              "      <th>time_hour</th>\n",
              "    </tr>\n",
              "  </thead>\n",
              "  <tbody>\n",
              "    <tr>\n",
              "      <th>0</th>\n",
              "      <td>2013</td>\n",
              "      <td>1</td>\n",
              "      <td>1</td>\n",
              "      <td>517.0</td>\n",
              "      <td>515</td>\n",
              "      <td>2.0</td>\n",
              "      <td>830.0</td>\n",
              "      <td>819</td>\n",
              "      <td>11.0</td>\n",
              "      <td>UA</td>\n",
              "      <td>1545</td>\n",
              "      <td>N14228</td>\n",
              "      <td>EWR</td>\n",
              "      <td>IAH</td>\n",
              "      <td>227.0</td>\n",
              "      <td>1400</td>\n",
              "      <td>5</td>\n",
              "      <td>15</td>\n",
              "      <td>2013-01-01T10:00:00Z</td>\n",
              "    </tr>\n",
              "    <tr>\n",
              "      <th>1</th>\n",
              "      <td>2013</td>\n",
              "      <td>1</td>\n",
              "      <td>1</td>\n",
              "      <td>533.0</td>\n",
              "      <td>529</td>\n",
              "      <td>4.0</td>\n",
              "      <td>850.0</td>\n",
              "      <td>830</td>\n",
              "      <td>20.0</td>\n",
              "      <td>UA</td>\n",
              "      <td>1714</td>\n",
              "      <td>N24211</td>\n",
              "      <td>LGA</td>\n",
              "      <td>IAH</td>\n",
              "      <td>227.0</td>\n",
              "      <td>1416</td>\n",
              "      <td>5</td>\n",
              "      <td>29</td>\n",
              "      <td>2013-01-01T10:00:00Z</td>\n",
              "    </tr>\n",
              "    <tr>\n",
              "      <th>2</th>\n",
              "      <td>2013</td>\n",
              "      <td>1</td>\n",
              "      <td>1</td>\n",
              "      <td>542.0</td>\n",
              "      <td>540</td>\n",
              "      <td>2.0</td>\n",
              "      <td>923.0</td>\n",
              "      <td>850</td>\n",
              "      <td>33.0</td>\n",
              "      <td>AA</td>\n",
              "      <td>1141</td>\n",
              "      <td>N619AA</td>\n",
              "      <td>JFK</td>\n",
              "      <td>MIA</td>\n",
              "      <td>160.0</td>\n",
              "      <td>1089</td>\n",
              "      <td>5</td>\n",
              "      <td>40</td>\n",
              "      <td>2013-01-01T10:00:00Z</td>\n",
              "    </tr>\n",
              "    <tr>\n",
              "      <th>3</th>\n",
              "      <td>2013</td>\n",
              "      <td>1</td>\n",
              "      <td>1</td>\n",
              "      <td>544.0</td>\n",
              "      <td>545</td>\n",
              "      <td>-1.0</td>\n",
              "      <td>1004.0</td>\n",
              "      <td>1022</td>\n",
              "      <td>-18.0</td>\n",
              "      <td>B6</td>\n",
              "      <td>725</td>\n",
              "      <td>N804JB</td>\n",
              "      <td>JFK</td>\n",
              "      <td>BQN</td>\n",
              "      <td>183.0</td>\n",
              "      <td>1576</td>\n",
              "      <td>5</td>\n",
              "      <td>45</td>\n",
              "      <td>2013-01-01T10:00:00Z</td>\n",
              "    </tr>\n",
              "    <tr>\n",
              "      <th>4</th>\n",
              "      <td>2013</td>\n",
              "      <td>1</td>\n",
              "      <td>1</td>\n",
              "      <td>554.0</td>\n",
              "      <td>600</td>\n",
              "      <td>-6.0</td>\n",
              "      <td>812.0</td>\n",
              "      <td>837</td>\n",
              "      <td>-25.0</td>\n",
              "      <td>DL</td>\n",
              "      <td>461</td>\n",
              "      <td>N668DN</td>\n",
              "      <td>LGA</td>\n",
              "      <td>ATL</td>\n",
              "      <td>116.0</td>\n",
              "      <td>762</td>\n",
              "      <td>6</td>\n",
              "      <td>0</td>\n",
              "      <td>2013-01-01T11:00:00Z</td>\n",
              "    </tr>\n",
              "  </tbody>\n",
              "</table>\n",
              "</div>\n",
              "      <button class=\"colab-df-convert\" onclick=\"convertToInteractive('df-b9d59adb-d103-41f0-bca4-bd0a7535057e')\"\n",
              "              title=\"Convert this dataframe to an interactive table.\"\n",
              "              style=\"display:none;\">\n",
              "        \n",
              "  <svg xmlns=\"http://www.w3.org/2000/svg\" height=\"24px\"viewBox=\"0 0 24 24\"\n",
              "       width=\"24px\">\n",
              "    <path d=\"M0 0h24v24H0V0z\" fill=\"none\"/>\n",
              "    <path d=\"M18.56 5.44l.94 2.06.94-2.06 2.06-.94-2.06-.94-.94-2.06-.94 2.06-2.06.94zm-11 1L8.5 8.5l.94-2.06 2.06-.94-2.06-.94L8.5 2.5l-.94 2.06-2.06.94zm10 10l.94 2.06.94-2.06 2.06-.94-2.06-.94-.94-2.06-.94 2.06-2.06.94z\"/><path d=\"M17.41 7.96l-1.37-1.37c-.4-.4-.92-.59-1.43-.59-.52 0-1.04.2-1.43.59L10.3 9.45l-7.72 7.72c-.78.78-.78 2.05 0 2.83L4 21.41c.39.39.9.59 1.41.59.51 0 1.02-.2 1.41-.59l7.78-7.78 2.81-2.81c.8-.78.8-2.07 0-2.86zM5.41 20L4 18.59l7.72-7.72 1.47 1.35L5.41 20z\"/>\n",
              "  </svg>\n",
              "      </button>\n",
              "      \n",
              "  <style>\n",
              "    .colab-df-container {\n",
              "      display:flex;\n",
              "      flex-wrap:wrap;\n",
              "      gap: 12px;\n",
              "    }\n",
              "\n",
              "    .colab-df-convert {\n",
              "      background-color: #E8F0FE;\n",
              "      border: none;\n",
              "      border-radius: 50%;\n",
              "      cursor: pointer;\n",
              "      display: none;\n",
              "      fill: #1967D2;\n",
              "      height: 32px;\n",
              "      padding: 0 0 0 0;\n",
              "      width: 32px;\n",
              "    }\n",
              "\n",
              "    .colab-df-convert:hover {\n",
              "      background-color: #E2EBFA;\n",
              "      box-shadow: 0px 1px 2px rgba(60, 64, 67, 0.3), 0px 1px 3px 1px rgba(60, 64, 67, 0.15);\n",
              "      fill: #174EA6;\n",
              "    }\n",
              "\n",
              "    [theme=dark] .colab-df-convert {\n",
              "      background-color: #3B4455;\n",
              "      fill: #D2E3FC;\n",
              "    }\n",
              "\n",
              "    [theme=dark] .colab-df-convert:hover {\n",
              "      background-color: #434B5C;\n",
              "      box-shadow: 0px 1px 3px 1px rgba(0, 0, 0, 0.15);\n",
              "      filter: drop-shadow(0px 1px 2px rgba(0, 0, 0, 0.3));\n",
              "      fill: #FFFFFF;\n",
              "    }\n",
              "  </style>\n",
              "\n",
              "      <script>\n",
              "        const buttonEl =\n",
              "          document.querySelector('#df-b9d59adb-d103-41f0-bca4-bd0a7535057e button.colab-df-convert');\n",
              "        buttonEl.style.display =\n",
              "          google.colab.kernel.accessAllowed ? 'block' : 'none';\n",
              "\n",
              "        async function convertToInteractive(key) {\n",
              "          const element = document.querySelector('#df-b9d59adb-d103-41f0-bca4-bd0a7535057e');\n",
              "          const dataTable =\n",
              "            await google.colab.kernel.invokeFunction('convertToInteractive',\n",
              "                                                     [key], {});\n",
              "          if (!dataTable) return;\n",
              "\n",
              "          const docLinkHtml = 'Like what you see? Visit the ' +\n",
              "            '<a target=\"_blank\" href=https://colab.research.google.com/notebooks/data_table.ipynb>data table notebook</a>'\n",
              "            + ' to learn more about interactive tables.';\n",
              "          element.innerHTML = '';\n",
              "          dataTable['output_type'] = 'display_data';\n",
              "          await google.colab.output.renderOutput(dataTable, element);\n",
              "          const docLink = document.createElement('div');\n",
              "          docLink.innerHTML = docLinkHtml;\n",
              "          element.appendChild(docLink);\n",
              "        }\n",
              "      </script>\n",
              "    </div>\n",
              "  </div>\n",
              "  "
            ]
          },
          "metadata": {},
          "execution_count": 3
        }
      ]
    },
    {
      "cell_type": "code",
      "source": [
        "flights.info()"
      ],
      "metadata": {
        "id": "-3PvtC1l95WO",
        "colab": {
          "base_uri": "https://localhost:8080/"
        },
        "outputId": "5658c392-224c-45a1-f552-a6714a922dda"
      },
      "execution_count": 4,
      "outputs": [
        {
          "output_type": "stream",
          "name": "stdout",
          "text": [
            "<class 'pandas.core.frame.DataFrame'>\n",
            "RangeIndex: 336776 entries, 0 to 336775\n",
            "Data columns (total 19 columns):\n",
            " #   Column          Non-Null Count   Dtype  \n",
            "---  ------          --------------   -----  \n",
            " 0   year            336776 non-null  int64  \n",
            " 1   month           336776 non-null  int64  \n",
            " 2   day             336776 non-null  int64  \n",
            " 3   dep_time        328521 non-null  float64\n",
            " 4   sched_dep_time  336776 non-null  int64  \n",
            " 5   dep_delay       328521 non-null  float64\n",
            " 6   arr_time        328063 non-null  float64\n",
            " 7   sched_arr_time  336776 non-null  int64  \n",
            " 8   arr_delay       327346 non-null  float64\n",
            " 9   carrier         336776 non-null  object \n",
            " 10  flight          336776 non-null  int64  \n",
            " 11  tailnum         334264 non-null  object \n",
            " 12  origin          336776 non-null  object \n",
            " 13  dest            336776 non-null  object \n",
            " 14  air_time        327346 non-null  float64\n",
            " 15  distance        336776 non-null  int64  \n",
            " 16  hour            336776 non-null  int64  \n",
            " 17  minute          336776 non-null  int64  \n",
            " 18  time_hour       336776 non-null  object \n",
            "dtypes: float64(5), int64(9), object(5)\n",
            "memory usage: 48.8+ MB\n"
          ]
        }
      ]
    },
    {
      "cell_type": "code",
      "metadata": {
        "id": "opmJKtvmskL9",
        "colab": {
          "base_uri": "https://localhost:8080/",
          "height": 223
        },
        "outputId": "a5df49dd-c4a0-4730-a43a-05224ac08aa5"
      },
      "source": [
        "# load the `weather` table\n",
        "from nycflights13 import weather\n",
        "print(type(weather))\n",
        "weather.head()"
      ],
      "execution_count": 5,
      "outputs": [
        {
          "output_type": "stream",
          "name": "stdout",
          "text": [
            "<class 'pandas.core.frame.DataFrame'>\n"
          ]
        },
        {
          "output_type": "execute_result",
          "data": {
            "text/plain": [
              "  origin  year  month  day  hour   temp   dewp  humid  wind_dir  wind_speed  \\\n",
              "0    EWR  2013      1    1     1  39.02  26.06  59.37     270.0    10.35702   \n",
              "1    EWR  2013      1    1     2  39.02  26.96  61.63     250.0     8.05546   \n",
              "2    EWR  2013      1    1     3  39.02  28.04  64.43     240.0    11.50780   \n",
              "3    EWR  2013      1    1     4  39.92  28.04  62.21     250.0    12.65858   \n",
              "4    EWR  2013      1    1     5  39.02  28.04  64.43     260.0    12.65858   \n",
              "\n",
              "   wind_gust  precip  pressure  visib             time_hour  \n",
              "0        NaN     0.0    1012.0   10.0  2013-01-01T06:00:00Z  \n",
              "1        NaN     0.0    1012.3   10.0  2013-01-01T07:00:00Z  \n",
              "2        NaN     0.0    1012.5   10.0  2013-01-01T08:00:00Z  \n",
              "3        NaN     0.0    1012.2   10.0  2013-01-01T09:00:00Z  \n",
              "4        NaN     0.0    1011.9   10.0  2013-01-01T10:00:00Z  "
            ],
            "text/html": [
              "\n",
              "  <div id=\"df-4ab17a81-1b81-4e50-8628-bd22d09a73fa\">\n",
              "    <div class=\"colab-df-container\">\n",
              "      <div>\n",
              "<style scoped>\n",
              "    .dataframe tbody tr th:only-of-type {\n",
              "        vertical-align: middle;\n",
              "    }\n",
              "\n",
              "    .dataframe tbody tr th {\n",
              "        vertical-align: top;\n",
              "    }\n",
              "\n",
              "    .dataframe thead th {\n",
              "        text-align: right;\n",
              "    }\n",
              "</style>\n",
              "<table border=\"1\" class=\"dataframe\">\n",
              "  <thead>\n",
              "    <tr style=\"text-align: right;\">\n",
              "      <th></th>\n",
              "      <th>origin</th>\n",
              "      <th>year</th>\n",
              "      <th>month</th>\n",
              "      <th>day</th>\n",
              "      <th>hour</th>\n",
              "      <th>temp</th>\n",
              "      <th>dewp</th>\n",
              "      <th>humid</th>\n",
              "      <th>wind_dir</th>\n",
              "      <th>wind_speed</th>\n",
              "      <th>wind_gust</th>\n",
              "      <th>precip</th>\n",
              "      <th>pressure</th>\n",
              "      <th>visib</th>\n",
              "      <th>time_hour</th>\n",
              "    </tr>\n",
              "  </thead>\n",
              "  <tbody>\n",
              "    <tr>\n",
              "      <th>0</th>\n",
              "      <td>EWR</td>\n",
              "      <td>2013</td>\n",
              "      <td>1</td>\n",
              "      <td>1</td>\n",
              "      <td>1</td>\n",
              "      <td>39.02</td>\n",
              "      <td>26.06</td>\n",
              "      <td>59.37</td>\n",
              "      <td>270.0</td>\n",
              "      <td>10.35702</td>\n",
              "      <td>NaN</td>\n",
              "      <td>0.0</td>\n",
              "      <td>1012.0</td>\n",
              "      <td>10.0</td>\n",
              "      <td>2013-01-01T06:00:00Z</td>\n",
              "    </tr>\n",
              "    <tr>\n",
              "      <th>1</th>\n",
              "      <td>EWR</td>\n",
              "      <td>2013</td>\n",
              "      <td>1</td>\n",
              "      <td>1</td>\n",
              "      <td>2</td>\n",
              "      <td>39.02</td>\n",
              "      <td>26.96</td>\n",
              "      <td>61.63</td>\n",
              "      <td>250.0</td>\n",
              "      <td>8.05546</td>\n",
              "      <td>NaN</td>\n",
              "      <td>0.0</td>\n",
              "      <td>1012.3</td>\n",
              "      <td>10.0</td>\n",
              "      <td>2013-01-01T07:00:00Z</td>\n",
              "    </tr>\n",
              "    <tr>\n",
              "      <th>2</th>\n",
              "      <td>EWR</td>\n",
              "      <td>2013</td>\n",
              "      <td>1</td>\n",
              "      <td>1</td>\n",
              "      <td>3</td>\n",
              "      <td>39.02</td>\n",
              "      <td>28.04</td>\n",
              "      <td>64.43</td>\n",
              "      <td>240.0</td>\n",
              "      <td>11.50780</td>\n",
              "      <td>NaN</td>\n",
              "      <td>0.0</td>\n",
              "      <td>1012.5</td>\n",
              "      <td>10.0</td>\n",
              "      <td>2013-01-01T08:00:00Z</td>\n",
              "    </tr>\n",
              "    <tr>\n",
              "      <th>3</th>\n",
              "      <td>EWR</td>\n",
              "      <td>2013</td>\n",
              "      <td>1</td>\n",
              "      <td>1</td>\n",
              "      <td>4</td>\n",
              "      <td>39.92</td>\n",
              "      <td>28.04</td>\n",
              "      <td>62.21</td>\n",
              "      <td>250.0</td>\n",
              "      <td>12.65858</td>\n",
              "      <td>NaN</td>\n",
              "      <td>0.0</td>\n",
              "      <td>1012.2</td>\n",
              "      <td>10.0</td>\n",
              "      <td>2013-01-01T09:00:00Z</td>\n",
              "    </tr>\n",
              "    <tr>\n",
              "      <th>4</th>\n",
              "      <td>EWR</td>\n",
              "      <td>2013</td>\n",
              "      <td>1</td>\n",
              "      <td>1</td>\n",
              "      <td>5</td>\n",
              "      <td>39.02</td>\n",
              "      <td>28.04</td>\n",
              "      <td>64.43</td>\n",
              "      <td>260.0</td>\n",
              "      <td>12.65858</td>\n",
              "      <td>NaN</td>\n",
              "      <td>0.0</td>\n",
              "      <td>1011.9</td>\n",
              "      <td>10.0</td>\n",
              "      <td>2013-01-01T10:00:00Z</td>\n",
              "    </tr>\n",
              "  </tbody>\n",
              "</table>\n",
              "</div>\n",
              "      <button class=\"colab-df-convert\" onclick=\"convertToInteractive('df-4ab17a81-1b81-4e50-8628-bd22d09a73fa')\"\n",
              "              title=\"Convert this dataframe to an interactive table.\"\n",
              "              style=\"display:none;\">\n",
              "        \n",
              "  <svg xmlns=\"http://www.w3.org/2000/svg\" height=\"24px\"viewBox=\"0 0 24 24\"\n",
              "       width=\"24px\">\n",
              "    <path d=\"M0 0h24v24H0V0z\" fill=\"none\"/>\n",
              "    <path d=\"M18.56 5.44l.94 2.06.94-2.06 2.06-.94-2.06-.94-.94-2.06-.94 2.06-2.06.94zm-11 1L8.5 8.5l.94-2.06 2.06-.94-2.06-.94L8.5 2.5l-.94 2.06-2.06.94zm10 10l.94 2.06.94-2.06 2.06-.94-2.06-.94-.94-2.06-.94 2.06-2.06.94z\"/><path d=\"M17.41 7.96l-1.37-1.37c-.4-.4-.92-.59-1.43-.59-.52 0-1.04.2-1.43.59L10.3 9.45l-7.72 7.72c-.78.78-.78 2.05 0 2.83L4 21.41c.39.39.9.59 1.41.59.51 0 1.02-.2 1.41-.59l7.78-7.78 2.81-2.81c.8-.78.8-2.07 0-2.86zM5.41 20L4 18.59l7.72-7.72 1.47 1.35L5.41 20z\"/>\n",
              "  </svg>\n",
              "      </button>\n",
              "      \n",
              "  <style>\n",
              "    .colab-df-container {\n",
              "      display:flex;\n",
              "      flex-wrap:wrap;\n",
              "      gap: 12px;\n",
              "    }\n",
              "\n",
              "    .colab-df-convert {\n",
              "      background-color: #E8F0FE;\n",
              "      border: none;\n",
              "      border-radius: 50%;\n",
              "      cursor: pointer;\n",
              "      display: none;\n",
              "      fill: #1967D2;\n",
              "      height: 32px;\n",
              "      padding: 0 0 0 0;\n",
              "      width: 32px;\n",
              "    }\n",
              "\n",
              "    .colab-df-convert:hover {\n",
              "      background-color: #E2EBFA;\n",
              "      box-shadow: 0px 1px 2px rgba(60, 64, 67, 0.3), 0px 1px 3px 1px rgba(60, 64, 67, 0.15);\n",
              "      fill: #174EA6;\n",
              "    }\n",
              "\n",
              "    [theme=dark] .colab-df-convert {\n",
              "      background-color: #3B4455;\n",
              "      fill: #D2E3FC;\n",
              "    }\n",
              "\n",
              "    [theme=dark] .colab-df-convert:hover {\n",
              "      background-color: #434B5C;\n",
              "      box-shadow: 0px 1px 3px 1px rgba(0, 0, 0, 0.15);\n",
              "      filter: drop-shadow(0px 1px 2px rgba(0, 0, 0, 0.3));\n",
              "      fill: #FFFFFF;\n",
              "    }\n",
              "  </style>\n",
              "\n",
              "      <script>\n",
              "        const buttonEl =\n",
              "          document.querySelector('#df-4ab17a81-1b81-4e50-8628-bd22d09a73fa button.colab-df-convert');\n",
              "        buttonEl.style.display =\n",
              "          google.colab.kernel.accessAllowed ? 'block' : 'none';\n",
              "\n",
              "        async function convertToInteractive(key) {\n",
              "          const element = document.querySelector('#df-4ab17a81-1b81-4e50-8628-bd22d09a73fa');\n",
              "          const dataTable =\n",
              "            await google.colab.kernel.invokeFunction('convertToInteractive',\n",
              "                                                     [key], {});\n",
              "          if (!dataTable) return;\n",
              "\n",
              "          const docLinkHtml = 'Like what you see? Visit the ' +\n",
              "            '<a target=\"_blank\" href=https://colab.research.google.com/notebooks/data_table.ipynb>data table notebook</a>'\n",
              "            + ' to learn more about interactive tables.';\n",
              "          element.innerHTML = '';\n",
              "          dataTable['output_type'] = 'display_data';\n",
              "          await google.colab.output.renderOutput(dataTable, element);\n",
              "          const docLink = document.createElement('div');\n",
              "          docLink.innerHTML = docLinkHtml;\n",
              "          element.appendChild(docLink);\n",
              "        }\n",
              "      </script>\n",
              "    </div>\n",
              "  </div>\n",
              "  "
            ]
          },
          "metadata": {},
          "execution_count": 5
        }
      ]
    },
    {
      "cell_type": "code",
      "source": [
        "weather.info()"
      ],
      "metadata": {
        "id": "ZsrJnpJpmjyE",
        "colab": {
          "base_uri": "https://localhost:8080/"
        },
        "outputId": "01419ec1-0075-4922-e93a-c74044c8d6ae"
      },
      "execution_count": 6,
      "outputs": [
        {
          "output_type": "stream",
          "name": "stdout",
          "text": [
            "<class 'pandas.core.frame.DataFrame'>\n",
            "RangeIndex: 26115 entries, 0 to 26114\n",
            "Data columns (total 15 columns):\n",
            " #   Column      Non-Null Count  Dtype  \n",
            "---  ------      --------------  -----  \n",
            " 0   origin      26115 non-null  object \n",
            " 1   year        26115 non-null  int64  \n",
            " 2   month       26115 non-null  int64  \n",
            " 3   day         26115 non-null  int64  \n",
            " 4   hour        26115 non-null  int64  \n",
            " 5   temp        26114 non-null  float64\n",
            " 6   dewp        26114 non-null  float64\n",
            " 7   humid       26114 non-null  float64\n",
            " 8   wind_dir    25655 non-null  float64\n",
            " 9   wind_speed  26111 non-null  float64\n",
            " 10  wind_gust   5337 non-null   float64\n",
            " 11  precip      26115 non-null  float64\n",
            " 12  pressure    23386 non-null  float64\n",
            " 13  visib       26115 non-null  float64\n",
            " 14  time_hour   26115 non-null  object \n",
            "dtypes: float64(9), int64(4), object(2)\n",
            "memory usage: 3.0+ MB\n"
          ]
        }
      ]
    },
    {
      "cell_type": "markdown",
      "metadata": {
        "id": "E9oTFsV2fKU-"
      },
      "source": [
        "---\n",
        "# &diams; Predict daily departure delays using weather information\n",
        "\n",
        "Suppose we are interested in using both `flights` and `weather` data to build a regression model to predict flight departure delays using the weather information."
      ]
    },
    {
      "cell_type": "markdown",
      "metadata": {
        "id": "BhGn0rYvfKVE"
      },
      "source": [
        "---\n",
        "\n",
        "**Task-1** The `weather` data contains **hourly** meteorological data for LGA, JFK and EWR.\n",
        "\n",
        "Calculate the **daily** weather information at **LGA** in 2013. Here we only consider the following six weather-related variables: 1) temperature, 2) humidity, 3) wind speed, 4) precipitation, 5) sea level pressure, and 6) visibility.\n",
        "\n",
        "Save your results in a pandas DataFrame called `weather_LGA_daily`. The DataFrame should have nine columns: year, month, day, followed by the six daily average weather variables.\n",
        "\n",
        "Expected results: The resulting table is of shape 364 x 9; the first row should be `2013\t1\t1\t37.227826\t53.883478\t15.410445\t0.00\t1012.622727\t9.956522`.\n",
        "\n",
        "**Note**: It helps to use `reset_index()` after grouping so the grouped result won't have a hierarchical index;"
      ]
    },
    {
      "cell_type": "code",
      "metadata": {
        "id": "4wTdN9FkfKVF",
        "colab": {
          "base_uri": "https://localhost:8080/"
        },
        "outputId": "db1f7cc9-ba41-4db4-adfb-a132be5327d0"
      },
      "source": [
        "#ANSWER\n",
        "# Filtering the data for LGA and 2013\n",
        "weather_LGA = weather[(weather.origin == 'LGA') & (weather.year == 2013)]\n",
        "\n",
        "# Grouping data by year, month, and day using groupby and calculating means\n",
        "weather_LGA_daily = weather_LGA.groupby(['year', 'month', 'day']).agg({\n",
        "    'temp': np.nanmean,\n",
        "    'humid': np.nanmean,\n",
        "    'wind_speed': np.nanmean,\n",
        "    'precip': np.nanmean,\n",
        "    'pressure': np.nanmean,\n",
        "    'visib': np.nanmean\n",
        "}).reset_index()\n",
        "\n",
        "# To show first row of the resulting DataFrame\n",
        "print(weather_LGA_daily)\n"
      ],
      "execution_count": 7,
      "outputs": [
        {
          "output_type": "stream",
          "name": "stdout",
          "text": [
            "     year  month  day       temp      humid  wind_speed  precip     pressure  \\\n",
            "0    2013      1    1  37.227826  53.883478   15.410445    0.00  1012.622727   \n",
            "1    2013      1    2  28.790000  50.195000   13.617563    0.00  1018.062500   \n",
            "2    2013      1    3  30.267500  52.682500   11.076257    0.00  1020.320833   \n",
            "3    2013      1    4  35.832500  49.893333   15.391682    0.00  1016.441667   \n",
            "4    2013      1    5  38.277500  46.420417    9.877528    0.00  1022.458333   \n",
            "..    ...    ...  ...        ...        ...         ...     ...          ...   \n",
            "359  2013     12   26  33.335000  58.893750    8.343155    0.00  1025.250000   \n",
            "360  2013     12   27  36.462500  47.760833   11.507800    0.00  1026.475000   \n",
            "361  2013     12   28  44.967500  42.286250   10.740613    0.00  1021.316667   \n",
            "362  2013     12   29  43.857500  67.425833    9.829579    0.05  1011.538889   \n",
            "363  2013     12   30  39.370526  62.662105   12.779715    0.00  1013.282353   \n",
            "\n",
            "         visib  \n",
            "0     9.956522  \n",
            "1    10.000000  \n",
            "2    10.000000  \n",
            "3    10.000000  \n",
            "4    10.000000  \n",
            "..         ...  \n",
            "359  10.000000  \n",
            "360  10.000000  \n",
            "361  10.000000  \n",
            "362   7.593750  \n",
            "363  10.000000  \n",
            "\n",
            "[364 rows x 9 columns]\n"
          ]
        }
      ]
    },
    {
      "cell_type": "markdown",
      "metadata": {
        "id": "8s6TVmY4fKVG"
      },
      "source": [
        "---\n",
        "**Task-2 : Missing Value Treatment** The `flights` data contains all 336,776 flights\n",
        "that departed from New York City in 2013. \n",
        "\n",
        "There are some missing values in the flights data set which were caused by canceled flights. We can clean the flights data by removing flight record that has missing values in `dep_delay` or `arr_delay`, and save the non-canceled flights in a new pandas DataFrame `not_canceled`. \n",
        "\n",
        "The resulting `not_canceled` table should have 327,346 rows.\n",
        "\n",
        "We can cross-check using pandas functions `isna()`, `notna()`, and `dropna()`."
      ]
    },
    {
      "cell_type": "code",
      "source": [
        "#ANSWER\n",
        "# Removing the rows with missing values in dep_delay or arr_delay columns\n",
        "not_canceled = flights.dropna(subset=['dep_delay', 'arr_delay'])\n",
        "\n",
        "# To see the number of rows in the resulting table\n",
        "print(not_canceled)\n"
      ],
      "metadata": {
        "id": "nUvI5W4J6McF",
        "colab": {
          "base_uri": "https://localhost:8080/"
        },
        "outputId": "40fcc8e5-2141-495d-edd0-f53f3624225a"
      },
      "execution_count": 8,
      "outputs": [
        {
          "output_type": "stream",
          "name": "stdout",
          "text": [
            "        year  month  day  dep_time  sched_dep_time  dep_delay  arr_time  \\\n",
            "0       2013      1    1     517.0             515        2.0     830.0   \n",
            "1       2013      1    1     533.0             529        4.0     850.0   \n",
            "2       2013      1    1     542.0             540        2.0     923.0   \n",
            "3       2013      1    1     544.0             545       -1.0    1004.0   \n",
            "4       2013      1    1     554.0             600       -6.0     812.0   \n",
            "...      ...    ...  ...       ...             ...        ...       ...   \n",
            "336765  2013      9   30    2240.0            2245       -5.0    2334.0   \n",
            "336766  2013      9   30    2240.0            2250      -10.0    2347.0   \n",
            "336767  2013      9   30    2241.0            2246       -5.0    2345.0   \n",
            "336768  2013      9   30    2307.0            2255       12.0    2359.0   \n",
            "336769  2013      9   30    2349.0            2359      -10.0     325.0   \n",
            "\n",
            "        sched_arr_time  arr_delay carrier  flight tailnum origin dest  \\\n",
            "0                  819       11.0      UA    1545  N14228    EWR  IAH   \n",
            "1                  830       20.0      UA    1714  N24211    LGA  IAH   \n",
            "2                  850       33.0      AA    1141  N619AA    JFK  MIA   \n",
            "3                 1022      -18.0      B6     725  N804JB    JFK  BQN   \n",
            "4                  837      -25.0      DL     461  N668DN    LGA  ATL   \n",
            "...                ...        ...     ...     ...     ...    ...  ...   \n",
            "336765            2351      -17.0      B6    1816  N354JB    JFK  SYR   \n",
            "336766               7      -20.0      B6    2002  N281JB    JFK  BUF   \n",
            "336767               1      -16.0      B6     486  N346JB    JFK  ROC   \n",
            "336768            2358        1.0      B6     718  N565JB    JFK  BOS   \n",
            "336769             350      -25.0      B6     745  N516JB    JFK  PSE   \n",
            "\n",
            "        air_time  distance  hour  minute             time_hour  \n",
            "0          227.0      1400     5      15  2013-01-01T10:00:00Z  \n",
            "1          227.0      1416     5      29  2013-01-01T10:00:00Z  \n",
            "2          160.0      1089     5      40  2013-01-01T10:00:00Z  \n",
            "3          183.0      1576     5      45  2013-01-01T10:00:00Z  \n",
            "4          116.0       762     6       0  2013-01-01T11:00:00Z  \n",
            "...          ...       ...   ...     ...                   ...  \n",
            "336765      41.0       209    22      45  2013-10-01T02:00:00Z  \n",
            "336766      52.0       301    22      50  2013-10-01T02:00:00Z  \n",
            "336767      47.0       264    22      46  2013-10-01T02:00:00Z  \n",
            "336768      33.0       187    22      55  2013-10-01T02:00:00Z  \n",
            "336769     196.0      1617    23      59  2013-10-01T03:00:00Z  \n",
            "\n",
            "[327346 rows x 19 columns]\n"
          ]
        }
      ]
    },
    {
      "cell_type": "markdown",
      "metadata": {
        "id": "GR2wfNi-gKaB"
      },
      "source": [
        "---\n",
        "**Task-3** Next, use the `not_canceled` flights data to calculate the **daily** average departure delays at **LGA** in 2013. Save your results as `LGA_delay_daily`. The DataFrame should have four columns: year, month, day,\n",
        "and the daily average departure delay. \n",
        "\n",
        "What is the largest and smallest daily average departure delay?\n",
        "How many days in 2013 has negative daily average departure delays?\n",
        "\n",
        "Expected results: The resulting table is of shape 365 x 4; the first row should be `2013\t1\t1\t3.203390`; the max and min values are 106.210526 and -3.243243; 56 days have negative daily average departure delays."
      ]
    },
    {
      "cell_type": "code",
      "metadata": {
        "id": "N_T2fcJ7fKVH",
        "colab": {
          "base_uri": "https://localhost:8080/"
        },
        "outputId": "edd655a4-e12d-4834-90f0-ecd67b3cb9ad"
      },
      "source": [
        "#ANSWER\n",
        "# Filtering for LGA flights having only the year, month, day, & dep_delay columns\n",
        "not_canceled_LGA = not_canceled[not_canceled['origin'] == 'LGA'][['year', 'month', 'day', 'dep_delay']]\n",
        "\n",
        "#Grouping by year, month, & day then calculating the mean of the dep_delay column\n",
        "LGA_delay_daily = not_canceled_LGA.groupby(['year', 'month', 'day']).agg({'dep_delay': 'mean'}).reset_index()\n",
        "\n",
        "# Printing the result and summary statistics\n",
        "print(LGA_delay_daily)\n",
        "print('Max daily average departure delay:', LGA_delay_daily['dep_delay'].max())\n",
        "print('Min daily average departure delay:', LGA_delay_daily['dep_delay'].min())\n",
        "print('Number of days with negative daily average departure delays:', sum(LGA_delay_daily['dep_delay'] < 0))"
      ],
      "execution_count": 9,
      "outputs": [
        {
          "output_type": "stream",
          "name": "stdout",
          "text": [
            "     year  month  day  dep_delay\n",
            "0    2013      1    1   3.203390\n",
            "1    2013      1    2   5.633333\n",
            "2    2013      1    3  10.825397\n",
            "3    2013      1    4   2.929412\n",
            "4    2013      1    5   2.450000\n",
            "..    ...    ...  ...        ...\n",
            "360  2013     12   27   6.581395\n",
            "361  2013     12   28   3.013100\n",
            "362  2013     12   29   9.650376\n",
            "363  2013     12   30   4.855705\n",
            "364  2013     12   31   2.631818\n",
            "\n",
            "[365 rows x 4 columns]\n",
            "Max daily average departure delay: 106.21052631578948\n",
            "Min daily average departure delay: -3.2432432432432434\n",
            "Number of days with negative daily average departure delays: 56\n"
          ]
        }
      ]
    },
    {
      "cell_type": "markdown",
      "metadata": {
        "id": "Y6KMz5VwfKVH"
      },
      "source": [
        "---\n",
        "**Task-4**: Now join the two tables `weather_LGA_daily` and `LGA_delay_daily` that you obtained from parts (i) and (iii), save the result as `LGA_delay_weather_daily`. \n",
        "\n",
        "The resulting table should be of shape 364 x 10.\n"
      ]
    },
    {
      "cell_type": "code",
      "metadata": {
        "id": "EX3qrwHFfKVI",
        "colab": {
          "base_uri": "https://localhost:8080/",
          "height": 423
        },
        "outputId": "e85556c1-3a69-4fa2-af06-6a92d732d2f5"
      },
      "source": [
        "#ANSWER\n",
        "#joining the two tables\n",
        "LGA_delay_weather_daily = pd.merge(weather_LGA_daily, LGA_delay_daily, on=['year', 'month', 'day'])\n",
        "LGA_delay_weather_daily\n",
        "\n"
      ],
      "execution_count": 10,
      "outputs": [
        {
          "output_type": "execute_result",
          "data": {
            "text/plain": [
              "     year  month  day       temp      humid  wind_speed  precip     pressure  \\\n",
              "0    2013      1    1  37.227826  53.883478   15.410445    0.00  1012.622727   \n",
              "1    2013      1    2  28.790000  50.195000   13.617563    0.00  1018.062500   \n",
              "2    2013      1    3  30.267500  52.682500   11.076257    0.00  1020.320833   \n",
              "3    2013      1    4  35.832500  49.893333   15.391682    0.00  1016.441667   \n",
              "4    2013      1    5  38.277500  46.420417    9.877528    0.00  1022.458333   \n",
              "..    ...    ...  ...        ...        ...         ...     ...          ...   \n",
              "359  2013     12   26  33.335000  58.893750    8.343155    0.00  1025.250000   \n",
              "360  2013     12   27  36.462500  47.760833   11.507800    0.00  1026.475000   \n",
              "361  2013     12   28  44.967500  42.286250   10.740613    0.00  1021.316667   \n",
              "362  2013     12   29  43.857500  67.425833    9.829579    0.05  1011.538889   \n",
              "363  2013     12   30  39.370526  62.662105   12.779715    0.00  1013.282353   \n",
              "\n",
              "         visib  dep_delay  \n",
              "0     9.956522   3.203390  \n",
              "1    10.000000   5.633333  \n",
              "2    10.000000  10.825397  \n",
              "3    10.000000   2.929412  \n",
              "4    10.000000   2.450000  \n",
              "..         ...        ...  \n",
              "359  10.000000  11.630000  \n",
              "360  10.000000   6.581395  \n",
              "361  10.000000   3.013100  \n",
              "362   7.593750   9.650376  \n",
              "363  10.000000   4.855705  \n",
              "\n",
              "[364 rows x 10 columns]"
            ],
            "text/html": [
              "\n",
              "  <div id=\"df-4371315d-1302-4f9d-8d0f-73e4b7c92825\">\n",
              "    <div class=\"colab-df-container\">\n",
              "      <div>\n",
              "<style scoped>\n",
              "    .dataframe tbody tr th:only-of-type {\n",
              "        vertical-align: middle;\n",
              "    }\n",
              "\n",
              "    .dataframe tbody tr th {\n",
              "        vertical-align: top;\n",
              "    }\n",
              "\n",
              "    .dataframe thead th {\n",
              "        text-align: right;\n",
              "    }\n",
              "</style>\n",
              "<table border=\"1\" class=\"dataframe\">\n",
              "  <thead>\n",
              "    <tr style=\"text-align: right;\">\n",
              "      <th></th>\n",
              "      <th>year</th>\n",
              "      <th>month</th>\n",
              "      <th>day</th>\n",
              "      <th>temp</th>\n",
              "      <th>humid</th>\n",
              "      <th>wind_speed</th>\n",
              "      <th>precip</th>\n",
              "      <th>pressure</th>\n",
              "      <th>visib</th>\n",
              "      <th>dep_delay</th>\n",
              "    </tr>\n",
              "  </thead>\n",
              "  <tbody>\n",
              "    <tr>\n",
              "      <th>0</th>\n",
              "      <td>2013</td>\n",
              "      <td>1</td>\n",
              "      <td>1</td>\n",
              "      <td>37.227826</td>\n",
              "      <td>53.883478</td>\n",
              "      <td>15.410445</td>\n",
              "      <td>0.00</td>\n",
              "      <td>1012.622727</td>\n",
              "      <td>9.956522</td>\n",
              "      <td>3.203390</td>\n",
              "    </tr>\n",
              "    <tr>\n",
              "      <th>1</th>\n",
              "      <td>2013</td>\n",
              "      <td>1</td>\n",
              "      <td>2</td>\n",
              "      <td>28.790000</td>\n",
              "      <td>50.195000</td>\n",
              "      <td>13.617563</td>\n",
              "      <td>0.00</td>\n",
              "      <td>1018.062500</td>\n",
              "      <td>10.000000</td>\n",
              "      <td>5.633333</td>\n",
              "    </tr>\n",
              "    <tr>\n",
              "      <th>2</th>\n",
              "      <td>2013</td>\n",
              "      <td>1</td>\n",
              "      <td>3</td>\n",
              "      <td>30.267500</td>\n",
              "      <td>52.682500</td>\n",
              "      <td>11.076257</td>\n",
              "      <td>0.00</td>\n",
              "      <td>1020.320833</td>\n",
              "      <td>10.000000</td>\n",
              "      <td>10.825397</td>\n",
              "    </tr>\n",
              "    <tr>\n",
              "      <th>3</th>\n",
              "      <td>2013</td>\n",
              "      <td>1</td>\n",
              "      <td>4</td>\n",
              "      <td>35.832500</td>\n",
              "      <td>49.893333</td>\n",
              "      <td>15.391682</td>\n",
              "      <td>0.00</td>\n",
              "      <td>1016.441667</td>\n",
              "      <td>10.000000</td>\n",
              "      <td>2.929412</td>\n",
              "    </tr>\n",
              "    <tr>\n",
              "      <th>4</th>\n",
              "      <td>2013</td>\n",
              "      <td>1</td>\n",
              "      <td>5</td>\n",
              "      <td>38.277500</td>\n",
              "      <td>46.420417</td>\n",
              "      <td>9.877528</td>\n",
              "      <td>0.00</td>\n",
              "      <td>1022.458333</td>\n",
              "      <td>10.000000</td>\n",
              "      <td>2.450000</td>\n",
              "    </tr>\n",
              "    <tr>\n",
              "      <th>...</th>\n",
              "      <td>...</td>\n",
              "      <td>...</td>\n",
              "      <td>...</td>\n",
              "      <td>...</td>\n",
              "      <td>...</td>\n",
              "      <td>...</td>\n",
              "      <td>...</td>\n",
              "      <td>...</td>\n",
              "      <td>...</td>\n",
              "      <td>...</td>\n",
              "    </tr>\n",
              "    <tr>\n",
              "      <th>359</th>\n",
              "      <td>2013</td>\n",
              "      <td>12</td>\n",
              "      <td>26</td>\n",
              "      <td>33.335000</td>\n",
              "      <td>58.893750</td>\n",
              "      <td>8.343155</td>\n",
              "      <td>0.00</td>\n",
              "      <td>1025.250000</td>\n",
              "      <td>10.000000</td>\n",
              "      <td>11.630000</td>\n",
              "    </tr>\n",
              "    <tr>\n",
              "      <th>360</th>\n",
              "      <td>2013</td>\n",
              "      <td>12</td>\n",
              "      <td>27</td>\n",
              "      <td>36.462500</td>\n",
              "      <td>47.760833</td>\n",
              "      <td>11.507800</td>\n",
              "      <td>0.00</td>\n",
              "      <td>1026.475000</td>\n",
              "      <td>10.000000</td>\n",
              "      <td>6.581395</td>\n",
              "    </tr>\n",
              "    <tr>\n",
              "      <th>361</th>\n",
              "      <td>2013</td>\n",
              "      <td>12</td>\n",
              "      <td>28</td>\n",
              "      <td>44.967500</td>\n",
              "      <td>42.286250</td>\n",
              "      <td>10.740613</td>\n",
              "      <td>0.00</td>\n",
              "      <td>1021.316667</td>\n",
              "      <td>10.000000</td>\n",
              "      <td>3.013100</td>\n",
              "    </tr>\n",
              "    <tr>\n",
              "      <th>362</th>\n",
              "      <td>2013</td>\n",
              "      <td>12</td>\n",
              "      <td>29</td>\n",
              "      <td>43.857500</td>\n",
              "      <td>67.425833</td>\n",
              "      <td>9.829579</td>\n",
              "      <td>0.05</td>\n",
              "      <td>1011.538889</td>\n",
              "      <td>7.593750</td>\n",
              "      <td>9.650376</td>\n",
              "    </tr>\n",
              "    <tr>\n",
              "      <th>363</th>\n",
              "      <td>2013</td>\n",
              "      <td>12</td>\n",
              "      <td>30</td>\n",
              "      <td>39.370526</td>\n",
              "      <td>62.662105</td>\n",
              "      <td>12.779715</td>\n",
              "      <td>0.00</td>\n",
              "      <td>1013.282353</td>\n",
              "      <td>10.000000</td>\n",
              "      <td>4.855705</td>\n",
              "    </tr>\n",
              "  </tbody>\n",
              "</table>\n",
              "<p>364 rows × 10 columns</p>\n",
              "</div>\n",
              "      <button class=\"colab-df-convert\" onclick=\"convertToInteractive('df-4371315d-1302-4f9d-8d0f-73e4b7c92825')\"\n",
              "              title=\"Convert this dataframe to an interactive table.\"\n",
              "              style=\"display:none;\">\n",
              "        \n",
              "  <svg xmlns=\"http://www.w3.org/2000/svg\" height=\"24px\"viewBox=\"0 0 24 24\"\n",
              "       width=\"24px\">\n",
              "    <path d=\"M0 0h24v24H0V0z\" fill=\"none\"/>\n",
              "    <path d=\"M18.56 5.44l.94 2.06.94-2.06 2.06-.94-2.06-.94-.94-2.06-.94 2.06-2.06.94zm-11 1L8.5 8.5l.94-2.06 2.06-.94-2.06-.94L8.5 2.5l-.94 2.06-2.06.94zm10 10l.94 2.06.94-2.06 2.06-.94-2.06-.94-.94-2.06-.94 2.06-2.06.94z\"/><path d=\"M17.41 7.96l-1.37-1.37c-.4-.4-.92-.59-1.43-.59-.52 0-1.04.2-1.43.59L10.3 9.45l-7.72 7.72c-.78.78-.78 2.05 0 2.83L4 21.41c.39.39.9.59 1.41.59.51 0 1.02-.2 1.41-.59l7.78-7.78 2.81-2.81c.8-.78.8-2.07 0-2.86zM5.41 20L4 18.59l7.72-7.72 1.47 1.35L5.41 20z\"/>\n",
              "  </svg>\n",
              "      </button>\n",
              "      \n",
              "  <style>\n",
              "    .colab-df-container {\n",
              "      display:flex;\n",
              "      flex-wrap:wrap;\n",
              "      gap: 12px;\n",
              "    }\n",
              "\n",
              "    .colab-df-convert {\n",
              "      background-color: #E8F0FE;\n",
              "      border: none;\n",
              "      border-radius: 50%;\n",
              "      cursor: pointer;\n",
              "      display: none;\n",
              "      fill: #1967D2;\n",
              "      height: 32px;\n",
              "      padding: 0 0 0 0;\n",
              "      width: 32px;\n",
              "    }\n",
              "\n",
              "    .colab-df-convert:hover {\n",
              "      background-color: #E2EBFA;\n",
              "      box-shadow: 0px 1px 2px rgba(60, 64, 67, 0.3), 0px 1px 3px 1px rgba(60, 64, 67, 0.15);\n",
              "      fill: #174EA6;\n",
              "    }\n",
              "\n",
              "    [theme=dark] .colab-df-convert {\n",
              "      background-color: #3B4455;\n",
              "      fill: #D2E3FC;\n",
              "    }\n",
              "\n",
              "    [theme=dark] .colab-df-convert:hover {\n",
              "      background-color: #434B5C;\n",
              "      box-shadow: 0px 1px 3px 1px rgba(0, 0, 0, 0.15);\n",
              "      filter: drop-shadow(0px 1px 2px rgba(0, 0, 0, 0.3));\n",
              "      fill: #FFFFFF;\n",
              "    }\n",
              "  </style>\n",
              "\n",
              "      <script>\n",
              "        const buttonEl =\n",
              "          document.querySelector('#df-4371315d-1302-4f9d-8d0f-73e4b7c92825 button.colab-df-convert');\n",
              "        buttonEl.style.display =\n",
              "          google.colab.kernel.accessAllowed ? 'block' : 'none';\n",
              "\n",
              "        async function convertToInteractive(key) {\n",
              "          const element = document.querySelector('#df-4371315d-1302-4f9d-8d0f-73e4b7c92825');\n",
              "          const dataTable =\n",
              "            await google.colab.kernel.invokeFunction('convertToInteractive',\n",
              "                                                     [key], {});\n",
              "          if (!dataTable) return;\n",
              "\n",
              "          const docLinkHtml = 'Like what you see? Visit the ' +\n",
              "            '<a target=\"_blank\" href=https://colab.research.google.com/notebooks/data_table.ipynb>data table notebook</a>'\n",
              "            + ' to learn more about interactive tables.';\n",
              "          element.innerHTML = '';\n",
              "          dataTable['output_type'] = 'display_data';\n",
              "          await google.colab.output.renderOutput(dataTable, element);\n",
              "          const docLink = document.createElement('div');\n",
              "          docLink.innerHTML = docLinkHtml;\n",
              "          element.appendChild(docLink);\n",
              "        }\n",
              "      </script>\n",
              "    </div>\n",
              "  </div>\n",
              "  "
            ]
          },
          "metadata": {},
          "execution_count": 10
        }
      ]
    },
    {
      "cell_type": "markdown",
      "metadata": {
        "id": "5ZKXN6ZCfKVJ"
      },
      "source": [
        "---\n",
        "\n",
        "**Task-5** Use the sklearn `model_selection.train_test_split()` function to separate the `LGA_delay_weather_daily` data 70/30 into a training set and a testing set. Use random seed 206."
      ]
    },
    {
      "cell_type": "code",
      "metadata": {
        "id": "ZbyG3hb3fKVJ"
      },
      "source": [
        "#ANSWER\n",
        "from sklearn.model_selection import train_test_split\n",
        "\n",
        "X = LGA_delay_weather_daily.drop(columns=['dep_delay'])\n",
        "y = LGA_delay_weather_daily['dep_delay']\n",
        "#separating the LGA_delay_weather_daily data 70/30 into a training set and a testing set\n",
        "X_train, X_test, y_train, y_test = train_test_split(X, y, test_size=0.3, random_state=206)\n"
      ],
      "execution_count": 11,
      "outputs": []
    },
    {
      "cell_type": "markdown",
      "metadata": {
        "id": "kdyQ5cFVfKVK"
      },
      "source": [
        "---\n",
        "**Task-5** Suppose we are interested in applying a multiple linear regression model to to predict the daily average departure delays at LGA, using the following six weather predictors: 1) temperature, 2) humidity, 3) wind speed, 4) precipitation, 5) sea level pressure, and 6) visibility.\n",
        "\n",
        "Fit your model on the training data, and print out the coefficients.\n",
        "\n",
        "Expected results: the coefficients are `[ 1.55083493e-01  2.97484369e-01  3.09784108e-01  1.71880854e+02  -1.51085105e-01 -9.80963451e-01] 142.29623230752145`\n",
        "\n"
      ]
    },
    {
      "cell_type": "code",
      "metadata": {
        "id": "r-jWi5MrfKVK",
        "colab": {
          "base_uri": "https://localhost:8080/"
        },
        "outputId": "cc1b2ee3-23c9-494f-8e1b-d32e695ccd6a"
      },
      "source": [
        "#ANSWER\n",
        "from sklearn.linear_model import LinearRegression\n",
        "\n",
        "# Selecting the weather predictors\n",
        "X_train_weather = X_train[['temp', 'humid', 'wind_speed', 'precip', 'pressure', 'visib']]\n",
        "\n",
        "# LinearRegression class is being created\n",
        "reg = LinearRegression()\n",
        "\n",
        "# Fitting the model on the training dataset\n",
        "reg.fit(X_train_weather, y_train)\n",
        "\n",
        "# Coefficients of the model\n",
        "coefficients = np.append(reg.coef_, reg.intercept_)\n",
        "\n",
        "# Showing coefficients\n",
        "print(coefficients)\n",
        "\n",
        "\n",
        "# printing the output\n",
        "print(reg.intercept_)\n",
        "\n"
      ],
      "execution_count": 12,
      "outputs": [
        {
          "output_type": "stream",
          "name": "stdout",
          "text": [
            "[ 1.55083493e-01  2.97484369e-01  3.09784108e-01  1.71880854e+02\n",
            " -1.51085105e-01 -9.80963451e-01  1.42296232e+02]\n",
            "142.29623230752145\n"
          ]
        }
      ]
    },
    {
      "cell_type": "markdown",
      "metadata": {
        "id": "WLTzfNg_fKVL"
      },
      "source": [
        "---\n",
        "**Task-7** Calculate the root mean squared error (RMSE) and Rˆ2 metrics on the training data.\n",
        "\n",
        "Expected results: 10.68017531753989 and 0.3382017700023695\n",
        "\n",
        "**Hint:** Check sklearn `metrics` subpackage."
      ]
    },
    {
      "cell_type": "code",
      "metadata": {
        "id": "UJELsNEnfKVL",
        "colab": {
          "base_uri": "https://localhost:8080/"
        },
        "outputId": "ae514238-836d-4f58-b05d-b567ddb0e520"
      },
      "source": [
        "#ANSWER\n",
        "from sklearn.metrics import mean_squared_error, r2_score\n",
        "\n",
        "# Prediction of the departure delays by the training data\n",
        "y_train_pred = reg.predict(X_train_weather)\n",
        "\n",
        "# Calculating the RMSE\n",
        "rmse = np.sqrt(mean_squared_error(y_train, y_train_pred))\n",
        "\n",
        "# Calculating the R^2 score\n",
        "r2 = r2_score(y_train, y_train_pred)\n",
        "\n",
        "# Printing the RMSE & R^2 score\n",
        "print(\"RMSE:\", rmse)\n",
        "print(\"R^2:\", r2)\n",
        "\n"
      ],
      "execution_count": 13,
      "outputs": [
        {
          "output_type": "stream",
          "name": "stdout",
          "text": [
            "RMSE: 10.68017531753989\n",
            "R^2: 0.3382017700023695\n"
          ]
        }
      ]
    },
    {
      "cell_type": "markdown",
      "metadata": {
        "id": "EcSf3BZffKVL"
      },
      "source": [
        "---\n",
        "\n",
        "**Task-8**  Now apply the trained model on the testing data, and report the RMSE and Rˆ2 metrics.\n",
        "\n",
        "Expected results: 14.31635802661413 and 0.31131710327784845"
      ]
    },
    {
      "cell_type": "code",
      "metadata": {
        "id": "svLatfq9fKVL",
        "colab": {
          "base_uri": "https://localhost:8080/"
        },
        "outputId": "f3f8b0bc-02e1-4c89-d9d5-53a498edca6a"
      },
      "source": [
        "# ANSWER\n",
        "# Selecting weather predictors\n",
        "X_test_weather = X_test[['temp', 'humid', 'wind_speed', 'precip', 'pressure', 'visib']]\n",
        "\n",
        "# Predicting the departure delays\n",
        "y_test_pred = reg.predict(X_test_weather)\n",
        "\n",
        "#Calculating the RMSE\n",
        "rmse = np.sqrt(mean_squared_error(y_test, y_test_pred))\n",
        "\n",
        "# Calculating the R^2 score\n",
        "r2 = r2_score(y_test, y_test_pred)\n",
        "\n",
        "# Printing the RMSE and R^2 score\n",
        "print(\"RMSE:\", rmse)\n",
        "print(\"R^2:\", r2)\n"
      ],
      "execution_count": 14,
      "outputs": [
        {
          "output_type": "stream",
          "name": "stdout",
          "text": [
            "RMSE: 14.31635802661413\n",
            "R^2: 0.31131710327784845\n"
          ]
        }
      ]
    },
    {
      "cell_type": "markdown",
      "source": [
        "---\n",
        "**Task-9** Calculate the 5-fold cross-validation RMSE and R^2 of your linear regression model.\n",
        "\n",
        "**Resources**: (1) Check the `sklearn.model_selection.cross_val_score()` function; \n",
        "(2) Pay attention to the `scoring` parameter; the predefined scoring metrics are available at https://scikit-learn.org/stable/modules/model_evaluation.html#the-scoring-parameter-defining-model-evaluation-rules\n"
      ],
      "metadata": {
        "id": "x4ixNfSO2JAk"
      }
    },
    {
      "cell_type": "code",
      "source": [
        "#ANSWER\n",
        "from sklearn.model_selection import cross_val_score\n",
        "\n",
        "# Fistly, selecting weather predictors from the data\n",
        "X_weather = X[['temp', 'humid', 'wind_speed', 'precip', 'pressure', 'visib']]\n",
        "\n",
        "# Then, calculating the cross-validation RMSE & R^2\n",
        "cv_rmse = np.sqrt(-cross_val_score(reg, X_weather, y, cv=5, scoring='neg_mean_squared_error'))\n",
        "cv_r2 = cross_val_score(reg, X_weather, y, cv=5, scoring='r2')\n",
        "\n",
        "# Printing the average RMSE and R^2\n",
        "print(\"Cross-validation RMSE:\", cv_rmse.mean())\n",
        "print(\"Cross-validation R^2:\", cv_r2.mean())\n",
        "\n"
      ],
      "metadata": {
        "id": "aDA6g_Qz2OGD",
        "colab": {
          "base_uri": "https://localhost:8080/"
        },
        "outputId": "c2a6845e-4f7f-42d8-9581-8b4b7872c5d7"
      },
      "execution_count": 15,
      "outputs": [
        {
          "output_type": "stream",
          "name": "stdout",
          "text": [
            "Cross-validation RMSE: 12.75963240180539\n",
            "Cross-validation R^2: 0.1657775814293076\n"
          ]
        }
      ]
    },
    {
      "cell_type": "markdown",
      "source": [
        "---\n",
        "**Task-10** The performance of the current linear regression model doesn’t look very good. Please propose another regression to predict the the daily average departure delays at LGA. You can use either a different set of predictors, or a completely new regression model.\n",
        "\n",
        "Calculate the 5-fold cross-validation RMSE and R^2 metrics.\n",
        "\n"
      ],
      "metadata": {
        "id": "8xNxCcVz0YGm"
      }
    },
    {
      "cell_type": "code",
      "source": [
        "#ANSWER\n",
        "from sklearn.ensemble import RandomForestRegressor\n",
        "from sklearn.impute import SimpleImputer\n",
        "\n",
        "# Modifing the DataFrame\n",
        "LGA_delay_weather_daily.dropna(inplace=True)\n",
        "\n",
        "#fill in any missing values in the training and testing data\n",
        "imputer = SimpleImputer(strategy='mean')\n",
        "X_train = imputer.fit_transform(X_train)\n",
        "X_test = imputer.transform(X_test)\n",
        "\n",
        "# Defining the predictors & target variable\n",
        "predictors = ['temp', 'humid', 'wind_speed', 'precip', 'pressure', 'visib']\n",
        "target = 'dep_delay'\n",
        "\n",
        "# Splitting the data into training & testing sets\n",
        "X_train, X_test, y_train, y_test = train_test_split(LGA_delay_weather_daily[predictors],LGA_delay_weather_daily[ target ], test_size=0.3, random_state=206)\n",
        "\n",
        "# Training the Random Forest Regressor model\n",
        "rf = RandomForestRegressor(n_estimators=100, random_state=206)\n",
        "rf.fit(X_train, y_train)\n",
        "\n",
        "# Calculating the 5-fold cross-validation RMSE and R^2 metrics\n",
        "cv_rmse = np.sqrt(-cross_val_score(rf, LGA_delay_weather_daily[predictors], LGA_delay_weather_daily[target], cv=5, scoring='neg_mean_squared_error'))\n",
        "cv_r2 = cross_val_score(rf, LGA_delay_weather_daily[predictors], LGA_delay_weather_daily[target], cv=5, scoring='r2')\n",
        "\n",
        "# Printing the results\n",
        "print(f\"5-fold CV RMSE: {cv_rmse.mean()} +/- {cv_rmse.std()}\")\n",
        "print(f\"5-fold CV R^2: {cv_r2.mean()} +/- {cv_r2.std()}\")\n",
        "\n",
        "# Making predictions on the testing data and calculate the RMSE and R^2 metrics\n",
        "y_pred = rf.predict(X_test)\n",
        "test_rmse = np.sqrt(mean_squared_error(y_test, y_pred))\n",
        "test_r2 = r2_score(y_test, y_pred)\n",
        "print(f\"Test RMSE: {test_rmse}\")\n",
        "print(f\"Test R^2: {test_r2}\")\n"
      ],
      "metadata": {
        "id": "CEkkpIaN0XbH",
        "colab": {
          "base_uri": "https://localhost:8080/"
        },
        "outputId": "01e313f5-fd14-4b28-a707-1865ebc7d868"
      },
      "execution_count": 16,
      "outputs": [
        {
          "output_type": "stream",
          "name": "stdout",
          "text": [
            "5-fold CV RMSE: 12.914160059455895 +/- 2.000316513753992\n",
            "5-fold CV R^2: 0.1256495866771285 +/- 0.24399658813021174\n",
            "Test RMSE: 13.667545692672237\n",
            "Test R^2: 0.3723243732510543\n"
          ]
        }
      ]
    },
    {
      "cell_type": "markdown",
      "source": [
        "---\n",
        "# Classify daily departure delays using weather information [40 pts]\n",
        "\n",
        "In this question, we attempt to reduce the problem to a classification task.\n",
        "\n",
        "---\n",
        "**Task-1** First, label each day into two status groups: `delayed` if the daily average departure delay is greater than 0; `not-delayed`, otherwise.\n",
        "Add a new column `delay_label` to `LGA_delay_weather_daily` to present this binary label. How many days are labeled as `delayed`? And `not-delayed`?\n",
        "\n",
        "The expected answers are 308 days as `delayed` and 56 days as `not-delayed`.\n"
      ],
      "metadata": {
        "id": "lGJWoP1Soz8t"
      }
    },
    {
      "cell_type": "code",
      "source": [
        "#ANSWER\n",
        "# Creating a new column named \"delay_label\" based on the daily average departure delay\n",
        "LGA_delay_weather_daily[\"delay_label\"]= np.where(LGA_delay_weather_daily[\"dep_delay\"] > 0, \"delayed\", \"not-delayed\")\n",
        "\n",
        "# Counting the number of days labeled as delayed or not-delayed\n",
        "num_delayed = LGA_delay_weather_daily[LGA_delay_weather_daily[\"delay_label\"] == \"delayed\"].shape[0]\n",
        "num_not_delayed = LGA_delay_weather_daily[LGA_delay_weather_daily[\"delay_label\"] == \"not-delayed\"].shape[0]\n",
        "\n",
        "# Printing the number of days labeled as delayed or not-delayed\n",
        "print(f\"Number of delayed days: {num_delayed}\")\n",
        "print(f\"Number of not-delayed days: {num_not_delayed}\")"
      ],
      "metadata": {
        "id": "7owKfsZwrndL",
        "colab": {
          "base_uri": "https://localhost:8080/"
        },
        "outputId": "1d59bc4c-24b1-4e19-8ead-1f122a291be3"
      },
      "execution_count": 17,
      "outputs": [
        {
          "output_type": "stream",
          "name": "stdout",
          "text": [
            "Number of delayed days: 308\n",
            "Number of not-delayed days: 56\n"
          ]
        }
      ]
    },
    {
      "cell_type": "markdown",
      "source": [
        "---\n",
        "**Task-2** Similarly, use the `sklearn.model_selection.train_test_split()` function to separate the LGA_delay_weather_daily data 70/30 into a training set and a testing set. Use random seed 206."
      ],
      "metadata": {
        "id": "gqSNHjdbtqL6"
      }
    },
    {
      "cell_type": "code",
      "source": [
        "#ANSWER\n",
        "from sklearn.model_selection import train_test_split\n",
        "\n",
        "# Defining the predictors & target variable\n",
        "predictors = ['temp', 'humid', 'wind_speed', 'precip', 'pressure', 'visib']\n",
        "target= 'delay_label'\n",
        "\n",
        "# Splitting the data into training and testing sets(70/30) \n",
        "X_train, X_test, y_train, y_test = train_test_split(LGA_delay_weather_daily[predictors], LGA_delay_weather_daily[target], test_size=0.3, random_state=206)\n"
      ],
      "metadata": {
        "id": "6UFp33b_wELQ"
      },
      "execution_count": 18,
      "outputs": []
    },
    {
      "cell_type": "markdown",
      "source": [
        "---\n",
        "**Task-2** After task-2, apply a K-nearest-neighbor model (K=3) to classify the daily average departure delay status at LGA, i.e. `delay_label`, using the six weather predictors: 1) temperature, 2) humidity, 3) wind speed, 4) precipitation, 5) sea level pressure, and 6) visibility.\n",
        "\n",
        "Fit the model on the training data, what is the misclassification error rate (i.e., 1 - accuracy) on the training data?\n",
        "\n",
        "The expected result is 0.10236220472440949."
      ],
      "metadata": {
        "id": "Ssq-F_myHMGm"
      }
    },
    {
      "cell_type": "code",
      "source": [
        "# ANSWER\n",
        "from sklearn.neighbors import KNeighborsClassifier\n",
        "from sklearn.metrics import accuracy_score\n",
        "\n",
        "# Defining the predictors and target variable\n",
        "predictors = ['temp', 'humid', 'wind_speed', 'precip', 'pressure', 'visib']\n",
        "target = 'delay_label'\n",
        "\n",
        "# Splitting the data into training and testing sets\n",
        "X_train, X_test, y_train, y_test = train_test_split(LGA_delay_weather_daily[predictors], LGA_delay_weather_daily[target], test_size=0.3, random_state=206)\n",
        "\n",
        "# Training the KNN model with K=3\n",
        "knn = KNeighborsClassifier(n_neighbors=3)\n",
        "knn.fit(X_train, y_train)\n",
        "\n",
        "# Calculating the misclassification error rate on the training data\n",
        "y_pred_train = knn.predict(X_train)\n",
        "train_error = 1 - accuracy_score(y_train, y_pred_train)\n",
        "print(f\"Training Misclassification Error Rate: {train_error}\")"
      ],
      "metadata": {
        "id": "QhbUoNhkwQiv",
        "colab": {
          "base_uri": "https://localhost:8080/"
        },
        "outputId": "f7b332ce-328c-4d70-c24a-d2140ea164b2"
      },
      "execution_count": 19,
      "outputs": [
        {
          "output_type": "stream",
          "name": "stdout",
          "text": [
            "Training Misclassification Error Rate: 0.10236220472440949\n"
          ]
        }
      ]
    },
    {
      "cell_type": "markdown",
      "source": [
        "---\n",
        "**Task-4** What is the misclassification error rate on the test data?\n",
        "\n",
        "The expected result is 0.1636363636363637."
      ],
      "metadata": {
        "id": "3ZgTTvP7HV7O"
      }
    },
    {
      "cell_type": "code",
      "source": [
        "# ANSWER\n",
        "from sklearn.metrics import accuracy_score\n",
        "\n",
        "# Making predictions on the test data\n",
        "y_pred_test = knn.predict(X_test)\n",
        "\n",
        "# Calculating the misclassification error rate on the test data\n",
        "test_error_rate= 1 - accuracy_score(y_test, y_pred_test)\n",
        "\n",
        "print(f\"Test Misclassification Error Rate: {test_error_rate:}\")\n",
        "\n"
      ],
      "metadata": {
        "id": "d4q-A7y7x620",
        "colab": {
          "base_uri": "https://localhost:8080/"
        },
        "outputId": "c68fe3cd-3a3b-406e-b7a5-3336472f6d87"
      },
      "execution_count": 20,
      "outputs": [
        {
          "output_type": "stream",
          "name": "stdout",
          "text": [
            "Test Misclassification Error Rate: 0.1636363636363637\n"
          ]
        }
      ]
    },
    {
      "cell_type": "markdown",
      "source": [
        "---\n",
        "**Task-5** Print out the confusion matrix for the classification results on the test data.\n",
        "\n",
        "Calculate the false positive rate (FPR), true positive rate (TPR), and false discovery rate (FDR).\n"
      ],
      "metadata": {
        "id": "6QQf6HiUuHsO"
      }
    },
    {
      "cell_type": "code",
      "source": [
        "# ANSWER\n",
        "from sklearn.metrics import confusion_matrix\n",
        "\n",
        "# Predictions on the test data using trained KNN model\n",
        "y_pred = knn.predict(X_test)\n",
        "\n",
        "# Calculating the confusion matrix\n",
        "cm = confusion_matrix(y_test, y_pred)\n",
        "print(\"Confusion matrix:\")\n",
        "print(cm)\n",
        "\n",
        "#Calculating the false positive rate (FPR), true positive rate (TPR), & false discovery rate (FDR)\n",
        "tn, fp, fn, tp = cm.ravel()\n",
        "fpr = fp / (fp + tn)\n",
        "tpr = tp / (tp + fn)\n",
        "fdr = fp / (fp + tp)\n",
        "print(f\"False positive rate (FPR): {fpr}\")\n",
        "print(f\"True positive rate (TPR): {tpr}\")\n",
        "print(f\"False discovery rate (FDR): {fdr}\")\n"
      ],
      "metadata": {
        "id": "uLSunJ3EyHJV",
        "colab": {
          "base_uri": "https://localhost:8080/"
        },
        "outputId": "e1b57060-1200-4078-d17c-2bc486f91b13"
      },
      "execution_count": 21,
      "outputs": [
        {
          "output_type": "stream",
          "name": "stdout",
          "text": [
            "Confusion matrix:\n",
            "[[87  5]\n",
            " [13  5]]\n",
            "False positive rate (FPR): 0.05434782608695652\n",
            "True positive rate (TPR): 0.2777777777777778\n",
            "False discovery rate (FDR): 0.5\n"
          ]
        }
      ]
    },
    {
      "cell_type": "markdown",
      "source": [
        "---\n",
        "**Task-6** Plot the ROC curve of this KNN classifier.\n"
      ],
      "metadata": {
        "id": "3Kt5r2IguJ0H"
      }
    },
    {
      "cell_type": "code",
      "source": [
        "# ANSWER\n",
        "from sklearn.metrics import roc_curve, RocCurveDisplay\n",
        "\n",
        "#converting the target variable y_test into a binary variable\n",
        "y_test_binary = (y_test == 'not-delayed').astype(int)\n",
        "\n",
        "# Making predictions on the testing data using the trained KNN model\n",
        "y_pred_proba = knn.predict_proba(X_test)[:,1]\n",
        "\n",
        "# Calculating the ROC curve\n",
        "fpr, tpr, thresholds = roc_curve(y_test_binary, y_pred_proba)\n",
        "\n",
        "\n",
        "# Plotting the ROC curve\n",
        "roc_display = RocCurveDisplay(tpr=tpr,fpr=fpr, roc_auc=None).plot()\n",
        "roc_display.ax_.set_title('ROC Curve for KNN Classifier: Positive Label is (Not-delayed) for both axis')\n",
        "roc_display.ax_.set_xlabel('False Positive Rate (FPR)')\n",
        "roc_display.ax_.set_ylabel('True Positive Rate (TPR)')\n"
      ],
      "metadata": {
        "id": "m8TPT_ZMzVAn",
        "colab": {
          "base_uri": "https://localhost:8080/",
          "height": 489
        },
        "outputId": "415e88e4-44d3-4437-e428-ddcc3685bb5c"
      },
      "execution_count": 22,
      "outputs": [
        {
          "output_type": "execute_result",
          "data": {
            "text/plain": [
              "Text(0, 0.5, 'True Positive Rate (TPR)')"
            ]
          },
          "metadata": {},
          "execution_count": 22
        },
        {
          "output_type": "display_data",
          "data": {
            "text/plain": [
              "<Figure size 640x480 with 1 Axes>"
            ],
            "image/png": "[encoded data removed]"
          },
          "metadata": {}
        }
      ]
    },
    {
      "cell_type": "markdown",
      "source": [
        "---\n",
        "**Task-7** Calculate the 5-fold cross-validation misclassification rate of your KNN model.\n"
      ],
      "metadata": {
        "id": "2NoDvG1nMigJ"
      }
    },
    {
      "cell_type": "code",
      "source": [
        "# ANSWER\n",
        "from sklearn.model_selection import cross_val_score\n",
        "\n",
        "# Defining the predictors and target variable\n",
        "predictors = ['temp', 'humid', 'wind_speed', 'precip', 'pressure', 'visib']\n",
        "target = 'delay_label'\n",
        "\n",
        "# Splitting the data into training and testing sets\n",
        "X_train, X_test, y_train, y_test = train_test_split(LGA_delay_weather_daily[predictors], LGA_delay_weather_daily[target], test_size=0.3, random_state=206)\n",
        "\n",
        "# Training the KNN model with K=3\n",
        "knn = KNeighborsClassifier(n_neighbors=3)\n",
        "knn.fit(X_train,y_train)\n",
        "\n",
        "# Cross-validation with 5 folds\n",
        "scores = cross_val_score(knn, LGA_delay_weather_daily[predictors], LGA_delay_weather_daily[target], cv=5)\n",
        "\n",
        "# Misclassification rate (1 - accuracy)\n",
        "misclassification_rate = 1 - scores.mean()\n",
        "\n",
        "print(f\"Cross-validation misclassification rate: {misclassification_rate:.3f}\")\n"
      ],
      "metadata": {
        "id": "Kof_mQoOyazg",
        "colab": {
          "base_uri": "https://localhost:8080/"
        },
        "outputId": "66f9faab-27c9-40a9-a00a-ac83fe11c7fa"
      },
      "execution_count": 23,
      "outputs": [
        {
          "output_type": "stream",
          "name": "stdout",
          "text": [
            "Cross-validation misclassification rate: 0.203\n"
          ]
        }
      ]
    },
    {
      "cell_type": "markdown",
      "source": [
        "---\n",
        "**Task-8** Construct another classifier to predict the binary `delayed`/`not-delayed` status.\n",
        "\n",
        "You can use either a different selection of predictors, or a different classification model. Calculate the 5-fold cross-validation misclassification error rate of your classifier.\n",
        "\n",
        "\n",
        "**Answer** I used many classifiers such as Logistic regression, Random Forest classifier, decision tree classifier, KNN, Support vector machines classifier (SVC). I found that SVC works the best among these. For simplicity, I'm just showing SVC results.  \n",
        "\n",
        "I also tried deep learning based methods such as Convolution nueral networks (CNN), RNN, and MLP(Multi-Layer Processing) but these methods require the inputs to be in specific format. Therefore, I need to reshape my data in order to be a compatible input for these methods. I'm not sure if after reshaping out data will have the same meaning. Therefore, conceptually I don't want to use these methods in the context of our problem. \n",
        "\n",
        "Overall, my selected classifier SVC() gives the classification error to be 15.38%. Simple logistic classifier gives us more than 16% error. \n",
        "\n",
        "I don't know whether I'll get the extra credit or not, but this question was awesome. I learned many techniques and their comparative statistics."
      ],
      "metadata": {
        "id": "lSvWy4wxuOXI"
      }
    },
    {
      "cell_type": "code",
      "source": [
        "# ANSWER\n",
        "from sklearn.svm import SVC\n",
        "from sklearn.metrics import accuracy_score\n",
        "from sklearn.model_selection import cross_val_score\n",
        "\n",
        "# Defining the predictors and target variable\n",
        "predictors = ['temp', 'humid', 'wind_speed', 'precip', 'pressure', 'visib']\n",
        "target = 'delay_label'\n",
        "\n",
        "# Splitting the data into training and testing sets\n",
        "X_train, X_test, y_train, y_test = train_test_split(LGA_delay_weather_daily[predictors], LGA_delay_weather_daily[target], test_size=0.3, random_state=206)\n",
        "\n",
        "# Creating and fitting a classifier : Support vector regressors\n",
        "clf = SVC()\n",
        "clf.fit(X_train, y_train)\n",
        "\n",
        "# Making predictions on the testing data\n",
        "y_pred = clf.predict(X_test)\n",
        "\n",
        "# Calculating the accuracy score of the logistic regression model\n",
        "accuracy = accuracy_score(y_test, y_pred)\n",
        "print(\"Accuracy of Support Vector Classifier model:\",accuracy)\n",
        "\n",
        "# Calculating the 5-fold cross-validation misclassification rate\n",
        "cv_scores = cross_val_score(clf, LGA_delay_weather_daily[predictors], LGA_delay_weather_daily[target], cv=5)\n",
        "misclassification_rate = 1 - cv_scores.mean()\n",
        "print(\"5-fold cross-validation misclassification rate of SVC model:\", misclassification_rate)\n"
      ],
      "metadata": {
        "id": "nxdLRVQLuOCw",
        "colab": {
          "base_uri": "https://localhost:8080/"
        },
        "outputId": "b365d106-2056-420e-c390-0eaaae41ff0b"
      },
      "execution_count": 24,
      "outputs": [
        {
          "output_type": "stream",
          "name": "stdout",
          "text": [
            "Accuracy of Support Vector Classifier model: 0.8363636363636363\n",
            "5-fold cross-validation misclassification rate of SVC model: 0.15384322678843232\n"
          ]
        }
      ]
    }
  ]
}