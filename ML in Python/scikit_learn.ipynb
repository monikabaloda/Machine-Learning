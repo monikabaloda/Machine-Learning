{
  "nbformat": 4,
  "nbformat_minor": 0,
  "metadata": {
    "colab": {
      "provenance": [],
      "toc_visible": true
    },
    "kernelspec": {
      "name": "python3",
      "display_name": "Python 3"
    },
    "language_info": {
      "name": "python"
    }
  },
  "cells": [
    {
      "cell_type": "markdown",
      "metadata": {
        "id": "-hvfA9oiu70d"
      },
      "source": [
        "---\n",
        "# scikit-learn\n",
        "In this notebook, we learn two major problems in machine learning: \n",
        "regression and classification. \n",
        "scikit-learn is the library which houses majority of the machine learning functions. \n",
        "More on this library can be learned on following the link:\n",
        "https://scikit-learn.org/stable/\n",
        "\n",
        "The flow of this notebook is as follows: first we talk about the concept with codes and then implement the concept on a full-fledged exercise. "
      ]
    },
    {
      "cell_type": "code",
      "source": [
        "import numpy as np\n",
        "import pandas as pd"
      ],
      "metadata": {
        "id": "YfKE6wfKktAR"
      },
      "execution_count": 1,
      "outputs": []
    },
    {
      "cell_type": "markdown",
      "source": [
        "---\n",
        "# Regression\n",
        "\n",
        "Predicting a continuous-valued attribute associated with an object.\n",
        "\n",
        "https://scikit-learn.org/stable/supervised_learning.html#supervised-learning"
      ],
      "metadata": {
        "id": "4Ad5zqN21Vvn"
      }
    },
    {
      "cell_type": "markdown",
      "metadata": {
        "id": "HzAKfxCceJIA"
      },
      "source": [
        "---\n",
        "## Abalone data\n",
        "\n",
        "Abalone are a type of edible marine snail, and they have internal rings that correspond to their age (like trees). In the following, we will use a dataset of [abalone measurements](https://archive.ics.uci.edu/ml/datasets/abalone). It has the following fields:\n",
        "\n",
        "    Sex / nominal / -- / M, F, and I (infant) \n",
        "    Length / continuous / mm / Longest shell measurement \n",
        "    Diameter\t/ continuous / mm / perpendicular to length \n",
        "    Height / continuous / mm / with meat in shell \n",
        "    Whole weight / continuous / grams / whole abalone \n",
        "    Shucked weight / continuous\t/ grams / weight of meat \n",
        "    Viscera weight / continuous / grams / gut weight (after bleeding) \n",
        "    Shell weight / continuous / grams / after being dried \n",
        "    Rings / integer / -- / +1.5 gives the age in years \n",
        "\n",
        "Suppose we are interested in predicting the age of the abalone given their measurements. This is an example of a regression problem."
      ]
    },
    {
      "cell_type": "code",
      "metadata": {
        "scrolled": true,
        "id": "5WCo1PQ66EU4"
      },
      "source": [
        "df = pd.read_csv('http://archive.ics.uci.edu/ml/machine-learning-databases/abalone/abalone.data',\n",
        "                 header = None, \n",
        "                 names = ['sex', 'length', 'diameter', 'height', 'weight', 'shucked_weight','viscera_weight', 'shell_weight', 'rings'])"
      ],
      "execution_count": 2,
      "outputs": []
    },
    {
      "cell_type": "code",
      "metadata": {
        "scrolled": false,
        "id": "qKBaARWc6EU4",
        "colab": {
          "base_uri": "https://localhost:8080/"
        },
        "outputId": "2603feb9-2622-4984-d297-7cb0756c3876"
      },
      "source": [
        "df.info()"
      ],
      "execution_count": 3,
      "outputs": [
        {
          "output_type": "stream",
          "name": "stdout",
          "text": [
            "<class 'pandas.core.frame.DataFrame'>\n",
            "RangeIndex: 4177 entries, 0 to 4176\n",
            "Data columns (total 9 columns):\n",
            " #   Column          Non-Null Count  Dtype  \n",
            "---  ------          --------------  -----  \n",
            " 0   sex             4177 non-null   object \n",
            " 1   length          4177 non-null   float64\n",
            " 2   diameter        4177 non-null   float64\n",
            " 3   height          4177 non-null   float64\n",
            " 4   weight          4177 non-null   float64\n",
            " 5   shucked_weight  4177 non-null   float64\n",
            " 6   viscera_weight  4177 non-null   float64\n",
            " 7   shell_weight    4177 non-null   float64\n",
            " 8   rings           4177 non-null   int64  \n",
            "dtypes: float64(7), int64(1), object(1)\n",
            "memory usage: 293.8+ KB\n"
          ]
        }
      ]
    },
    {
      "cell_type": "code",
      "metadata": {
        "id": "Eb6WLLTtc1SN",
        "colab": {
          "base_uri": "https://localhost:8080/"
        },
        "outputId": "4ff0fa44-d8f1-4c40-cb2b-1cfe22cffd77"
      },
      "source": [
        "# data preparation\n",
        "X_clean = df.drop(['rings'], axis=1)\n",
        "print(X_clean.columns)\n",
        "# convert categorical variable 'sex' into dummy/indicator variables.\n",
        "print(pd.get_dummies(X_clean).columns)\n",
        "X_full = pd.get_dummies(X_clean).to_numpy()\n",
        "y = df['rings'].to_numpy()\n"
      ],
      "execution_count": 4,
      "outputs": [
        {
          "output_type": "stream",
          "name": "stdout",
          "text": [
            "Index(['sex', 'length', 'diameter', 'height', 'weight', 'shucked_weight',\n",
            "       'viscera_weight', 'shell_weight'],\n",
            "      dtype='object')\n",
            "Index(['length', 'diameter', 'height', 'weight', 'shucked_weight',\n",
            "       'viscera_weight', 'shell_weight', 'sex_F', 'sex_I', 'sex_M'],\n",
            "      dtype='object')\n"
          ]
        }
      ]
    },
    {
      "cell_type": "code",
      "source": [
        "from sklearn.model_selection import train_test_split\n",
        "\n",
        "# split traning/test data\n",
        "X_train, X_test, y_train, y_test = train_test_split(X_full, y, test_size=0.3, random_state=206)\n",
        "print(X_train.shape, y_train.shape)\n",
        "print(X_test.shape, y_test.shape)"
      ],
      "metadata": {
        "id": "6gPQqti6nBBy",
        "colab": {
          "base_uri": "https://localhost:8080/"
        },
        "outputId": "ebb1b5ed-1f8c-4d0f-cbdb-8a975ab5076f"
      },
      "execution_count": 5,
      "outputs": [
        {
          "output_type": "stream",
          "name": "stdout",
          "text": [
            "(2923, 10) (2923,)\n",
            "(1254, 10) (1254,)\n"
          ]
        }
      ]
    },
    {
      "cell_type": "markdown",
      "metadata": {
        "id": "QjBdEI_Vc1SG"
      },
      "source": [
        "---\n",
        "## Multiple linear regression"
      ]
    },
    {
      "cell_type": "code",
      "metadata": {
        "id": "v4gmt91Oc1SN",
        "colab": {
          "base_uri": "https://localhost:8080/"
        },
        "outputId": "2b1a0488-9af7-4e3c-cbda-ccd7215a9f9b"
      },
      "source": [
        "from sklearn import linear_model\n",
        "\n",
        "# create an estimator of a linear regression model\n",
        "model_mlr = linear_model.LinearRegression()\n",
        "# fit the model to the data\n",
        "model_mlr.fit(X_train, y_train)\n",
        "# print model attributes\n",
        "print(model_mlr.coef_, model_mlr.intercept_)"
      ],
      "execution_count": 6,
      "outputs": [
        {
          "output_type": "stream",
          "name": "stdout",
          "text": [
            "[  0.21322442  11.54076824   9.11920244   9.6726404  -20.07767893\n",
            " -12.0572845    6.99158725   0.25311087  -0.60640995   0.35329909] 3.497827402964525\n"
          ]
        }
      ]
    },
    {
      "cell_type": "code",
      "source": [
        "# Apply the model to classify test data\n",
        "model_mlr.predict(X_test)"
      ],
      "metadata": {
        "id": "h4HEQZG-nlEZ",
        "colab": {
          "base_uri": "https://localhost:8080/"
        },
        "outputId": "2b26bb6e-2f60-405b-f3a4-9ce33872608a"
      },
      "execution_count": 7,
      "outputs": [
        {
          "output_type": "execute_result",
          "data": {
            "text/plain": [
              "array([13.03096611, 14.57733669, 13.37106689, ..., 12.09053647,\n",
              "        6.97686387,  9.97738752])"
            ]
          },
          "metadata": {},
          "execution_count": 7
        }
      ]
    },
    {
      "cell_type": "code",
      "source": [
        "# ground truth\n",
        "y_test"
      ],
      "metadata": {
        "id": "-vbMCqtKnpRp",
        "colab": {
          "base_uri": "https://localhost:8080/"
        },
        "outputId": "7235f957-b1b9-4798-93d2-d6401a957aac"
      },
      "execution_count": 8,
      "outputs": [
        {
          "output_type": "execute_result",
          "data": {
            "text/plain": [
              "array([18, 20,  9, ...,  8,  8,  6])"
            ]
          },
          "metadata": {},
          "execution_count": 8
        }
      ]
    },
    {
      "cell_type": "markdown",
      "metadata": {
        "id": "nt9zNfEHmrZE"
      },
      "source": [
        "---\n",
        "## Evaluating your model\n",
        "The R^2 tells us that our model amount of the variations in our target variable is explained by our model.\n",
        "\n",
        "https://scikit-learn.org/stable/modules/model_evaluation.html#regression-metrics"
      ]
    },
    {
      "cell_type": "code",
      "metadata": {
        "id": "Rt9SsrSSmrZE",
        "colab": {
          "base_uri": "https://localhost:8080/"
        },
        "outputId": "8064bf19-489e-4d3e-968c-0780c3e214c6"
      },
      "source": [
        "# R^2 coefficient of determination \n",
        "model_mlr.score(X_test, y_test)"
      ],
      "execution_count": 9,
      "outputs": [
        {
          "output_type": "execute_result",
          "data": {
            "text/plain": [
              "0.5355509018060667"
            ]
          },
          "metadata": {},
          "execution_count": 9
        }
      ]
    },
    {
      "cell_type": "markdown",
      "source": [],
      "metadata": {
        "id": "3qyvAguyC4XL"
      }
    },
    {
      "cell_type": "code",
      "metadata": {
        "scrolled": true,
        "id": "a5wx0y6dmrZF",
        "colab": {
          "base_uri": "https://localhost:8080/"
        },
        "outputId": "f4f108c4-fcee-4234-eb34-c53f3542ab75"
      },
      "source": [
        "import sklearn.metrics as metrics\n",
        "\n",
        "# R^2 coefficient of determination \n",
        "metrics.r2_score(y_test, model_mlr.predict(X_test))"
      ],
      "execution_count": 10,
      "outputs": [
        {
          "output_type": "execute_result",
          "data": {
            "text/plain": [
              "0.5355509018060667"
            ]
          },
          "metadata": {},
          "execution_count": 10
        }
      ]
    },
    {
      "cell_type": "code",
      "source": [
        "# mean squared error\n",
        "metrics.mean_squared_error(y_test, model_mlr.predict(X_test))"
      ],
      "metadata": {
        "id": "3mpm5gCvmrZF",
        "colab": {
          "base_uri": "https://localhost:8080/"
        },
        "outputId": "d11ec2b5-845a-4183-b13e-6bf48fd8b554"
      },
      "execution_count": 11,
      "outputs": [
        {
          "output_type": "execute_result",
          "data": {
            "text/plain": [
              "4.98772910720453"
            ]
          },
          "metadata": {},
          "execution_count": 11
        }
      ]
    },
    {
      "cell_type": "markdown",
      "metadata": {
        "id": "qwzu8pKHmoB6"
      },
      "source": [
        "---\n",
        "## Cross validation\n",
        "\n",
        "Another method of evelauating model.\n",
        "\n",
        "https://scikit-learn.org/stable/modules/cross_validation.html#cross-validation\n",
        "\n",
        "https://scikit-learn.org/stable/modules/generated/sklearn.model_selection.cross_val_score.html#sklearn.model_selection.cross_val_score"
      ]
    },
    {
      "cell_type": "code",
      "metadata": {
        "id": "-9mIYd2fmoB6",
        "colab": {
          "base_uri": "https://localhost:8080/"
        },
        "outputId": "4ade79c0-b870-4522-d033-3772ce9c2cdc"
      },
      "source": [
        "# Cross validation 5-fold\n",
        "from sklearn.model_selection import cross_val_score\n",
        "\n",
        "model = linear_model.LinearRegression()\n",
        "scores = cross_val_score(model, X_full, y, cv = 5)\n",
        "scores"
      ],
      "execution_count": 12,
      "outputs": [
        {
          "output_type": "execute_result",
          "data": {
            "text/plain": [
              "array([0.42892258, 0.20421095, 0.49486196, 0.51858889, 0.44955174])"
            ]
          },
          "metadata": {},
          "execution_count": 12
        }
      ]
    },
    {
      "cell_type": "code",
      "metadata": {
        "id": "NsrsTPq_moB6",
        "colab": {
          "base_uri": "https://localhost:8080/"
        },
        "outputId": "04f5cbb5-a274-4bdf-e469-58d29d944d61"
      },
      "source": [
        "print(f\"5-fold CV R^2: {scores.mean()} (+/- {scores.std()})\")"
      ],
      "execution_count": 13,
      "outputs": [
        {
          "output_type": "stream",
          "name": "stdout",
          "text": [
            "5-fold CV R^2: 0.41922722379930466 (+/- 0.112106135908679)\n"
          ]
        }
      ]
    },
    {
      "cell_type": "markdown",
      "source": [
        "---\n",
        "## &diams; Exercise\n",
        "\n",
        "Try to fit some of the models in the following cell to the abalone data. Compute the 5-fold cv R^2 statistics.\n",
        "\n",
        "Look up the documentation for the regressor, and see if the regressor takes any parameters. How does changing the parameter affect the result?"
      ],
      "metadata": {
        "id": "76xdD6PT-WhV"
      }
    },
    {
      "cell_type": "code",
      "source": [
        "from sklearn.svm import SVR\n",
        "from sklearn.tree import DecisionTreeRegressor\n",
        "from sklearn.ensemble import GradientBoostingRegressor\n",
        "from sklearn.linear_model import ElasticNet\n",
        "from sklearn.linear_model import SGDRegressor\n",
        "from sklearn.linear_model import BayesianRidge\n",
        "from sklearn.kernel_ridge import KernelRidge\n",
        "from xgboost.sklearn import XGBRegressor\n",
        "from lightgbm import LGBMRegressor"
      ],
      "metadata": {
        "id": "H7YSVi0vbYld"
      },
      "execution_count": 14,
      "outputs": []
    },
    {
      "cell_type": "code",
      "source": [
        "\n",
        "# INSERT_YOUR_ANSWER\n",
        "\n",
        "#Model: SVR-1\n",
        "model = SVR(kernel='rbf', C=1, epsilon=0.1)\n",
        "scores = cross_val_score(model, X_full, y, cv = 5)\n",
        "scores\n",
        "print(f\"5-fold CV R^2 of SVR with default parameters (C=1, epsilon=0.1): {scores.mean()} (+/- {scores.std()})\")\n",
        "\n",
        "\n",
        "#Model: SVR-2\n",
        "model = SVR(kernel='rbf', C=1, epsilon=0.5)\n",
        "scores = cross_val_score(model, X_full, y, cv = 5)\n",
        "scores\n",
        "print(f\"5-fold CV R^2 with greater epsilon (=0.5): {scores.mean()} (+/- {scores.std()})\")\n",
        "\n",
        "#Result :  The performance slightly increases when we increase the epsilon \n",
        "\n",
        "\n",
        "\n",
        "#Model: SVR-3\n",
        "model = SVR(kernel='rbf', C=1e2, epsilon=0.1)\n",
        "scores = cross_val_score(model, X_full, y, cv = 5)\n",
        "scores\n",
        "print(f\"5-fold CV R^2 with greater C(=100): {scores.mean()} (+/- {scores.std()})\")\n",
        "\n",
        "#Result: We note that the performance increases when we increase the parameter C \n"
      ],
      "metadata": {
        "id": "zexwjs5eCTCN",
        "colab": {
          "base_uri": "https://localhost:8080/"
        },
        "outputId": "52b39978-7f42-4736-b54b-817328241f83"
      },
      "execution_count": 15,
      "outputs": [
        {
          "output_type": "stream",
          "name": "stdout",
          "text": [
            "5-fold CV R^2 of SVR with default parameters (C=1, epsilon=0.1): 0.4478334068480342 (+/- 0.10896876359157394)\n",
            "5-fold CV R^2 with greater epsilon (=0.5): 0.4516831910485199 (+/- 0.10478344681123607)\n",
            "5-fold CV R^2 with greater C(=100): 0.5156661259781938 (+/- 0.05891758319999079)\n"
          ]
        }
      ]
    },
    {
      "cell_type": "code",
      "source": [
        "#Model KernelRidge-1 :\n",
        "model = KernelRidge(kernel='linear', alpha=1)\n",
        "scores = cross_val_score(model, X_full, y, cv = 5)\n",
        "scores\n",
        "print(f\"5-fold CV R^2 of KernalRidge with default parameter: {(scores.mean())} (+/- {scores.std()})\")\n",
        "\n",
        "#Model  KernelRidge-2\n",
        "model = KernelRidge(kernel='poly', alpha=1)\n",
        "scores = cross_val_score(model, X_full, y, cv = 5)\n",
        "scores\n",
        "print(f\"5-fold CV R^2 of KernalRidge with poly kernel: {(scores.mean())} (+/- {scores.std()})\")\n",
        "#Result: We note that the performance increases with poly kernel relative to linear kernel \n",
        "\n",
        "\n",
        "\n",
        "#Model  KernelRidge-3\n",
        "model = KernelRidge(kernel='linear', alpha=10)\n",
        "scores = cross_val_score(model, X_full, y, cv = 5)\n",
        "scores\n",
        "print(f\"5-fold CV R^2 of KernalRidge with poly kernel with alpha=10: {(scores.mean())} (+/- {scores.std()})\")\n",
        "# Result: performance decreases if we increase the parameter alpha "
      ],
      "metadata": {
        "colab": {
          "base_uri": "https://localhost:8080/"
        },
        "id": "czKMfg5YyqzK",
        "outputId": "bfee4750-72d6-4746-b714-2523990c22ed"
      },
      "execution_count": 16,
      "outputs": [
        {
          "output_type": "stream",
          "name": "stdout",
          "text": [
            "5-fold CV R^2 of KernalRidge with default parameter: 0.4266418481646834 (+/- 0.10936364173706144)\n",
            "5-fold CV R^2 of KernalRidge with poly kernel: 0.4351594978406229 (+/- 0.10610431412505102)\n",
            "5-fold CV R^2 of KernalRidge with poly kernel with alpha=10: 0.3803706972941808 (+/- 0.11358423402519184)\n"
          ]
        }
      ]
    },
    {
      "cell_type": "code",
      "source": [
        "#Model-3\n",
        "model = GradientBoostingRegressor()\n",
        "scores = cross_val_score(model, X_full, y, cv = 5)\n",
        "scores\n",
        "print(f\"5-fold CV R^2: {(scores.mean())} (+/- {scores.std()})\")"
      ],
      "metadata": {
        "colab": {
          "base_uri": "https://localhost:8080/"
        },
        "id": "MElAmp6Py27Q",
        "outputId": "939019db-0f1e-48ba-8c30-b0129fca5134"
      },
      "execution_count": 17,
      "outputs": [
        {
          "output_type": "stream",
          "name": "stdout",
          "text": [
            "5-fold CV R^2: 0.46438069879998733 (+/- 0.09846334978376436)\n"
          ]
        }
      ]
    },
    {
      "cell_type": "markdown",
      "source": [
        "Model-4\n",
        "model = BayesianRidge() scores = cross_val_score(model, X_full, y, cv = 5) scores print(f\"5-fold CV R^2: {(scores.mean())} (+/- {scores.std()})\")\n",
        "\n",
        "Summary: Changing the parameters can have a significant effect on the performance of the SVR model. For example, increasing the C value can lead to overfitting, while decreasing it can lead to underfitting. Similarly, changing the kernel function can affect the model's ability to capture non-linear relationships in the data. The optimal values for these parameters will depend on the specific dataset and the problem being solved, and can be determined through hyperparameter tuning. The epsilon parameter is particularly important when dealing with noisy data, as it can help to reduce the impact of outliers on the model's performance."
      ],
      "metadata": {
        "id": "LI8FeTd8y-DY"
      }
    },
    {
      "cell_type": "markdown",
      "source": [
        "---\n",
        "# Classification\n",
        "\n",
        "https://scikit-learn.org/stable/supervised_learning.html#supervised-learning\n",
        "\n",
        "Another typical example of a supervised machine learning problem is classification."
      ],
      "metadata": {
        "id": "GPKHcjgzG7_l"
      }
    },
    {
      "cell_type": "markdown",
      "metadata": {
        "id": "QF6SEggkekqx"
      },
      "source": [
        "---\n",
        "## Iris data\n",
        "\n",
        "Here we will use a dataset of flower measurements from three different flower species of *Iris* (*Iris setosa*, *Iris virginica*, and *Iris versicolor*). We aim to predict the species of the flower. Because the species is not a numerical output, it is not a regression problem, but a classification problem.\n",
        "\n",
        "https://archive.ics.uci.edu/ml/datasets/iris\n",
        "\n",
        "The iris dataset is included in `scikit-learn`.\n",
        "\n",
        "https://scikit-learn.org/stable/datasets/toy_dataset.html\n",
        "\n",
        "https://scikit-learn.org/stable/modules/generated/sklearn.datasets.load_iris.html"
      ]
    },
    {
      "cell_type": "code",
      "metadata": {
        "id": "8PzW52eR6EU7"
      },
      "source": [
        "from sklearn import datasets\n",
        "iris = datasets.load_iris()"
      ],
      "execution_count": 18,
      "outputs": []
    },
    {
      "cell_type": "code",
      "metadata": {
        "id": "MjJPzLbyNjY2",
        "colab": {
          "base_uri": "https://localhost:8080/"
        },
        "outputId": "f7c76b64-41a5-4925-d642-96b530ffe0c3"
      },
      "source": [
        "print(iris.data.shape)\n",
        "iris.feature_names"
      ],
      "execution_count": 19,
      "outputs": [
        {
          "output_type": "stream",
          "name": "stdout",
          "text": [
            "(150, 4)\n"
          ]
        },
        {
          "output_type": "execute_result",
          "data": {
            "text/plain": [
              "['sepal length (cm)',\n",
              " 'sepal width (cm)',\n",
              " 'petal length (cm)',\n",
              " 'petal width (cm)']"
            ]
          },
          "metadata": {},
          "execution_count": 19
        }
      ]
    },
    {
      "cell_type": "code",
      "metadata": {
        "id": "V7PdDjWzQVGU",
        "colab": {
          "base_uri": "https://localhost:8080/"
        },
        "outputId": "d2a4f8fa-7a68-40a3-9314-26097c0e8d9f"
      },
      "source": [
        "print(iris.target.shape)\n",
        "iris.target_names"
      ],
      "execution_count": 20,
      "outputs": [
        {
          "output_type": "stream",
          "name": "stdout",
          "text": [
            "(150,)\n"
          ]
        },
        {
          "output_type": "execute_result",
          "data": {
            "text/plain": [
              "array(['setosa', 'versicolor', 'virginica'], dtype='<U10')"
            ]
          },
          "metadata": {},
          "execution_count": 20
        }
      ]
    },
    {
      "cell_type": "code",
      "metadata": {
        "scrolled": true,
        "id": "0F6-APk16EU8",
        "colab": {
          "base_uri": "https://localhost:8080/"
        },
        "outputId": "e1dafee9-575a-409d-c099-bd2223d5b3d5"
      },
      "source": [
        "from sklearn.model_selection import train_test_split\n",
        "\n",
        "# data preparation\n",
        "X = iris.data\n",
        "y = iris.target_names[iris.target]\n",
        "# split traning/test data\n",
        "X_train, X_test, y_train, y_test = train_test_split(X, y, test_size=0.2, random_state=206)\n",
        "print(X_train.shape, y_train.shape)\n",
        "print(X_test.shape, y_test.shape)"
      ],
      "execution_count": 21,
      "outputs": [
        {
          "output_type": "stream",
          "name": "stdout",
          "text": [
            "(120, 4) (120,)\n",
            "(30, 4) (30,)\n"
          ]
        }
      ]
    },
    {
      "cell_type": "markdown",
      "metadata": {
        "id": "5G_oQy6FRbba"
      },
      "source": [
        "---\n",
        "## K-nearest neighbor classifier\n",
        "\n",
        "https://scikit-learn.org/stable/modules/neighbors.html\n",
        "\n",
        "https://scikit-learn.org/stable/modules/classes.html#module-sklearn.neighbors\n"
      ]
    },
    {
      "cell_type": "code",
      "metadata": {
        "scrolled": false,
        "id": "RsBz_LVm6EU8",
        "colab": {
          "base_uri": "https://localhost:8080/",
          "height": 74
        },
        "outputId": "8a0e1a54-5e25-4dfc-8862-865a6f030c96"
      },
      "source": [
        "from sklearn.neighbors import KNeighborsClassifier\n",
        "\n",
        "# create an estimator of a KNN classifier\n",
        "model_knn = KNeighborsClassifier(n_neighbors = 3)\n",
        "# fit the model to the training data\n",
        "model_knn.fit(X_train, y_train)"
      ],
      "execution_count": 22,
      "outputs": [
        {
          "output_type": "execute_result",
          "data": {
            "text/plain": [
              "KNeighborsClassifier(n_neighbors=3)"
            ],
            "text/html": [
              "<style>#sk-container-id-1 {color: black;background-color: white;}#sk-container-id-1 pre{padding: 0;}#sk-container-id-1 div.sk-toggleable {background-color: white;}#sk-container-id-1 label.sk-toggleable__label {cursor: pointer;display: block;width: 100%;margin-bottom: 0;padding: 0.3em;box-sizing: border-box;text-align: center;}#sk-container-id-1 label.sk-toggleable__label-arrow:before {content: \"▸\";float: left;margin-right: 0.25em;color: #696969;}#sk-container-id-1 label.sk-toggleable__label-arrow:hover:before {color: black;}#sk-container-id-1 div.sk-estimator:hover label.sk-toggleable__label-arrow:before {color: black;}#sk-container-id-1 div.sk-toggleable__content {max-height: 0;max-width: 0;overflow: hidden;text-align: left;background-color: #f0f8ff;}#sk-container-id-1 div.sk-toggleable__content pre {margin: 0.2em;color: black;border-radius: 0.25em;background-color: #f0f8ff;}#sk-container-id-1 input.sk-toggleable__control:checked~div.sk-toggleable__content {max-height: 200px;max-width: 100%;overflow: auto;}#sk-container-id-1 input.sk-toggleable__control:checked~label.sk-toggleable__label-arrow:before {content: \"▾\";}#sk-container-id-1 div.sk-estimator input.sk-toggleable__control:checked~label.sk-toggleable__label {background-color: #d4ebff;}#sk-container-id-1 div.sk-label input.sk-toggleable__control:checked~label.sk-toggleable__label {background-color: #d4ebff;}#sk-container-id-1 input.sk-hidden--visually {border: 0;clip: rect(1px 1px 1px 1px);clip: rect(1px, 1px, 1px, 1px);height: 1px;margin: -1px;overflow: hidden;padding: 0;position: absolute;width: 1px;}#sk-container-id-1 div.sk-estimator {font-family: monospace;background-color: #f0f8ff;border: 1px dotted black;border-radius: 0.25em;box-sizing: border-box;margin-bottom: 0.5em;}#sk-container-id-1 div.sk-estimator:hover {background-color: #d4ebff;}#sk-container-id-1 div.sk-parallel-item::after {content: \"\";width: 100%;border-bottom: 1px solid gray;flex-grow: 1;}#sk-container-id-1 div.sk-label:hover label.sk-toggleable__label {background-color: #d4ebff;}#sk-container-id-1 div.sk-serial::before {content: \"\";position: absolute;border-left: 1px solid gray;box-sizing: border-box;top: 0;bottom: 0;left: 50%;z-index: 0;}#sk-container-id-1 div.sk-serial {display: flex;flex-direction: column;align-items: center;background-color: white;padding-right: 0.2em;padding-left: 0.2em;position: relative;}#sk-container-id-1 div.sk-item {position: relative;z-index: 1;}#sk-container-id-1 div.sk-parallel {display: flex;align-items: stretch;justify-content: center;background-color: white;position: relative;}#sk-container-id-1 div.sk-item::before, #sk-container-id-1 div.sk-parallel-item::before {content: \"\";position: absolute;border-left: 1px solid gray;box-sizing: border-box;top: 0;bottom: 0;left: 50%;z-index: -1;}#sk-container-id-1 div.sk-parallel-item {display: flex;flex-direction: column;z-index: 1;position: relative;background-color: white;}#sk-container-id-1 div.sk-parallel-item:first-child::after {align-self: flex-end;width: 50%;}#sk-container-id-1 div.sk-parallel-item:last-child::after {align-self: flex-start;width: 50%;}#sk-container-id-1 div.sk-parallel-item:only-child::after {width: 0;}#sk-container-id-1 div.sk-dashed-wrapped {border: 1px dashed gray;margin: 0 0.4em 0.5em 0.4em;box-sizing: border-box;padding-bottom: 0.4em;background-color: white;}#sk-container-id-1 div.sk-label label {font-family: monospace;font-weight: bold;display: inline-block;line-height: 1.2em;}#sk-container-id-1 div.sk-label-container {text-align: center;}#sk-container-id-1 div.sk-container {/* jupyter's `normalize.less` sets `[hidden] { display: none; }` but bootstrap.min.css set `[hidden] { display: none !important; }` so we also need the `!important` here to be able to override the default hidden behavior on the sphinx rendered scikit-learn.org. See: https://github.com/scikit-learn/scikit-learn/issues/21755 */display: inline-block !important;position: relative;}#sk-container-id-1 div.sk-text-repr-fallback {display: none;}</style><div id=\"sk-container-id-1\" class=\"sk-top-container\"><div class=\"sk-text-repr-fallback\"><pre>KNeighborsClassifier(n_neighbors=3)</pre><b>In a Jupyter environment, please rerun this cell to show the HTML representation or trust the notebook. <br />On GitHub, the HTML representation is unable to render, please try loading this page with nbviewer.org.</b></div><div class=\"sk-container\" hidden><div class=\"sk-item\"><div class=\"sk-estimator sk-toggleable\"><input class=\"sk-toggleable__control sk-hidden--visually\" id=\"sk-estimator-id-1\" type=\"checkbox\" checked><label for=\"sk-estimator-id-1\" class=\"sk-toggleable__label sk-toggleable__label-arrow\">KNeighborsClassifier</label><div class=\"sk-toggleable__content\"><pre>KNeighborsClassifier(n_neighbors=3)</pre></div></div></div></div></div>"
            ]
          },
          "metadata": {},
          "execution_count": 22
        }
      ]
    },
    {
      "cell_type": "code",
      "metadata": {
        "scrolled": true,
        "id": "_NV4bgoX6EU8",
        "colab": {
          "base_uri": "https://localhost:8080/"
        },
        "outputId": "5c064bee-f3c1-4c87-967e-aedc20dab334"
      },
      "source": [
        "# Apply the model to classify test data\n",
        "model_knn.predict(X_test)"
      ],
      "execution_count": 23,
      "outputs": [
        {
          "output_type": "execute_result",
          "data": {
            "text/plain": [
              "array(['setosa', 'versicolor', 'setosa', 'versicolor', 'virginica',\n",
              "       'versicolor', 'versicolor', 'virginica', 'setosa', 'versicolor',\n",
              "       'virginica', 'virginica', 'virginica', 'setosa', 'setosa',\n",
              "       'versicolor', 'versicolor', 'versicolor', 'virginica', 'virginica',\n",
              "       'versicolor', 'versicolor', 'versicolor', 'versicolor', 'setosa',\n",
              "       'setosa', 'virginica', 'setosa', 'versicolor', 'virginica'],\n",
              "      dtype='<U10')"
            ]
          },
          "metadata": {},
          "execution_count": 23
        }
      ]
    },
    {
      "cell_type": "code",
      "source": [
        "# ground truth\n",
        "y_test"
      ],
      "metadata": {
        "id": "5v4_uLWqfLny",
        "colab": {
          "base_uri": "https://localhost:8080/"
        },
        "outputId": "4b45ee17-9d17-4a93-97b2-45454db1c8b6"
      },
      "execution_count": 24,
      "outputs": [
        {
          "output_type": "execute_result",
          "data": {
            "text/plain": [
              "array(['setosa', 'versicolor', 'setosa', 'versicolor', 'versicolor',\n",
              "       'versicolor', 'versicolor', 'virginica', 'setosa', 'versicolor',\n",
              "       'virginica', 'virginica', 'virginica', 'setosa', 'setosa',\n",
              "       'versicolor', 'versicolor', 'versicolor', 'versicolor',\n",
              "       'virginica', 'versicolor', 'versicolor', 'versicolor',\n",
              "       'versicolor', 'setosa', 'setosa', 'versicolor', 'setosa',\n",
              "       'versicolor', 'virginica'], dtype='<U10')"
            ]
          },
          "metadata": {},
          "execution_count": 24
        }
      ]
    },
    {
      "cell_type": "markdown",
      "metadata": {
        "id": "nyIVQsyB6EU8"
      },
      "source": [
        "---\n",
        "## Evaluating your model\n",
        "\n",
        "https://scikit-learn.org/stable/modules/model_evaluation.html#classification-metrics"
      ]
    },
    {
      "cell_type": "code",
      "metadata": {
        "id": "_Z-mOtItxna3",
        "colab": {
          "base_uri": "https://localhost:8080/"
        },
        "outputId": "c5a005c7-a024-41f5-dea5-e7e38a53c8d7"
      },
      "source": [
        "# Accuracy\n",
        "model_knn.score(X_test, y_test)"
      ],
      "execution_count": 25,
      "outputs": [
        {
          "output_type": "execute_result",
          "data": {
            "text/plain": [
              "0.9"
            ]
          },
          "metadata": {},
          "execution_count": 25
        }
      ]
    },
    {
      "cell_type": "code",
      "metadata": {
        "scrolled": true,
        "id": "oyIElC9I6EU8",
        "colab": {
          "base_uri": "https://localhost:8080/"
        },
        "outputId": "2c9e97ae-a90d-42ce-a475-8787b3757c06"
      },
      "source": [
        "# Accuracy\n",
        "np.mean(model_knn.predict(X_test) == y_test) "
      ],
      "execution_count": 26,
      "outputs": [
        {
          "output_type": "execute_result",
          "data": {
            "text/plain": [
              "0.9"
            ]
          },
          "metadata": {},
          "execution_count": 26
        }
      ]
    },
    {
      "cell_type": "code",
      "metadata": {
        "scrolled": true,
        "id": "nLrYm2iG6EU9",
        "colab": {
          "base_uri": "https://localhost:8080/"
        },
        "outputId": "5eae86e3-aa44-4cd7-9c1f-590c42086b35"
      },
      "source": [
        "import sklearn.metrics as metrics\n",
        "# Accuracy\n",
        "metrics.accuracy_score(y_test, model_knn.predict(X_test))"
      ],
      "execution_count": 27,
      "outputs": [
        {
          "output_type": "execute_result",
          "data": {
            "text/plain": [
              "0.9"
            ]
          },
          "metadata": {},
          "execution_count": 27
        }
      ]
    },
    {
      "cell_type": "code",
      "source": [
        "from sklearn.metrics._plot.confusion_matrix import confusion_matrix\n",
        "\n",
        "# confusion matrix\n",
        "# https://en.wikipedia.org/wiki/Confusion_matrix\n",
        "print(confusion_matrix(y_test, model_knn.predict(X_test)))"
      ],
      "metadata": {
        "id": "4ftdXCWvYY11",
        "colab": {
          "base_uri": "https://localhost:8080/"
        },
        "outputId": "92b89112-7b79-4810-ccf7-4d6f927b6b02"
      },
      "execution_count": 28,
      "outputs": [
        {
          "output_type": "stream",
          "name": "stdout",
          "text": [
            "[[ 8  0  0]\n",
            " [ 0 13  3]\n",
            " [ 0  0  6]]\n"
          ]
        }
      ]
    },
    {
      "cell_type": "code",
      "metadata": {
        "scrolled": true,
        "id": "HeOrnVFV6EU9",
        "colab": {
          "base_uri": "https://localhost:8080/"
        },
        "outputId": "27b0a9de-5c0e-4eaf-89a4-a982e19553bc"
      },
      "source": [
        "# classification report\n",
        "print(metrics.classification_report(y_test, model_knn.predict(X_test)))"
      ],
      "execution_count": 29,
      "outputs": [
        {
          "output_type": "stream",
          "name": "stdout",
          "text": [
            "              precision    recall  f1-score   support\n",
            "\n",
            "      setosa       1.00      1.00      1.00         8\n",
            "  versicolor       1.00      0.81      0.90        16\n",
            "   virginica       0.67      1.00      0.80         6\n",
            "\n",
            "    accuracy                           0.90        30\n",
            "   macro avg       0.89      0.94      0.90        30\n",
            "weighted avg       0.93      0.90      0.90        30\n",
            "\n"
          ]
        }
      ]
    },
    {
      "cell_type": "markdown",
      "metadata": {
        "id": "w6HZCU3cYGwE"
      },
      "source": [
        "---\n",
        "## Cross validation\n",
        "\n",
        "https://scikit-learn.org/stable/modules/cross_validation.html#cross-validation\n",
        "\n",
        "https://scikit-learn.org/stable/modules/generated/sklearn.model_selection.cross_val_score.html#sklearn.model_selection.cross_val_score"
      ]
    },
    {
      "cell_type": "code",
      "metadata": {
        "id": "B7RbR2y46EU9",
        "colab": {
          "base_uri": "https://localhost:8080/"
        },
        "outputId": "f96b936d-a613-4e12-dab2-ef910443bc37"
      },
      "source": [
        "# Cross validation 5-fold\n",
        "from sklearn.model_selection import cross_val_score\n",
        "model = KNeighborsClassifier()\n",
        "scores = cross_val_score(model, X, y, cv = 5)\n",
        "scores"
      ],
      "execution_count": 30,
      "outputs": [
        {
          "output_type": "execute_result",
          "data": {
            "text/plain": [
              "array([0.96666667, 1.        , 0.93333333, 0.96666667, 1.        ])"
            ]
          },
          "metadata": {},
          "execution_count": 30
        }
      ]
    },
    {
      "cell_type": "code",
      "metadata": {
        "id": "STIQwOrU6EU9",
        "colab": {
          "base_uri": "https://localhost:8080/"
        },
        "outputId": "731f95ec-4a75-45e6-9057-4d28470e361a"
      },
      "source": [
        "print(f\"5-fold CV Accuracy: {scores.mean()} (+/- {scores.std()})\")"
      ],
      "execution_count": 31,
      "outputs": [
        {
          "output_type": "stream",
          "name": "stdout",
          "text": [
            "5-fold CV Accuracy: 0.9733333333333334 (+/- 0.02494438257849294)\n"
          ]
        }
      ]
    },
    {
      "cell_type": "markdown",
      "source": [
        "---\n",
        "## &diams; Exercise\n",
        "\n",
        "Try to fit some of the models in the following cell to the same data. Compute the relevant statistics (e.g. accuracy, precision, recall) with 5-fold cv. \n",
        "\n",
        "Look up the documentation for the classifier, and see if the classifier takes any parameters. How does changing the parameter affect the result?"
      ],
      "metadata": {
        "id": "HR9OKX_qDx6I"
      }
    },
    {
      "cell_type": "code",
      "source": [
        "from sklearn.linear_model import LogisticRegression\n",
        "from sklearn.neural_network import MLPClassifier\n",
        "from sklearn.svm import SVC\n",
        "from sklearn.gaussian_process import GaussianProcessClassifier\n",
        "from sklearn.tree import DecisionTreeClassifier\n",
        "from sklearn.ensemble import RandomForestClassifier, AdaBoostClassifier\n",
        "from sklearn.naive_bayes import GaussianNB\n",
        "from sklearn.discriminant_analysis import QuadraticDiscriminantAnalysis"
      ],
      "metadata": {
        "id": "qNVj2a6VHHN1"
      },
      "execution_count": 32,
      "outputs": []
    },
    {
      "cell_type": "code",
      "source": [
        "# INSERT_YOUR_ANSWER\n",
        "\n",
        "#Model QuadraticDiscriminantAnalysis :defualt parameters\n",
        "model = QuadraticDiscriminantAnalysis(priors=None, reg_param=0.1, store_covariance=True)\n",
        "scores = cross_val_score(model, X, y, cv = 5)\n",
        "print(f\"5-fold CV Accuracy of QuadraticDiscriminantAnalysis with default parameters: {scores.mean()} (+/- {scores.std()})\")\n",
        "\n",
        "#Model QuadraticDiscriminantAnalysis :defualt parameters\n",
        "model = QuadraticDiscriminantAnalysis(priors=None, reg_param=0.5, store_covariance=True)\n",
        "scores = cross_val_score(model, X, y, cv = 5)\n",
        "print(f\"5-fold CV Accuracy of QuadraticDiscriminantAnalysis with default parameters: {scores.mean()} (+/- {scores.std()})\")\n",
        "\n",
        "#we note that increase in reg_param leads to decrease in the accuracy. "
      ],
      "metadata": {
        "id": "LP6a2C3uJpsa",
        "colab": {
          "base_uri": "https://localhost:8080/"
        },
        "outputId": "af89f644-7183-42aa-83a0-8eaa9d0fb873"
      },
      "execution_count": 33,
      "outputs": [
        {
          "output_type": "stream",
          "name": "stdout",
          "text": [
            "5-fold CV Accuracy of QuadraticDiscriminantAnalysis with default parameters: 0.9733333333333334 (+/- 0.02494438257849294)\n",
            "5-fold CV Accuracy of QuadraticDiscriminantAnalysis with default parameters: 0.9466666666666667 (+/- 0.03399346342395189)\n"
          ]
        }
      ]
    },
    {
      "cell_type": "code",
      "source": [
        "#Model RandomForestClassifier :defualt parameters\n",
        "model =RandomForestClassifier(n_estimators=100, max_depth=None, min_samples_split=2, min_samples_leaf=1, max_features='auto', random_state=42)\n",
        "scores = cross_val_score(model, X, y, cv = 5)\n",
        "print(f\"5-fold CV Accuracy of RandomForestClassifier with default parameters: {scores.mean()} (+/- {scores.std()})\")\n",
        "\n",
        "\n",
        "#Model RandomForestClassifier : number of splits has increased to 3\n",
        "model = RandomForestClassifier(n_estimators=100, max_depth=None, min_samples_split=3, min_samples_leaf=1, max_features='auto', random_state=42)\n",
        "scores = cross_val_score(model, X, y, cv = 5)\n",
        "print(f\"5-fold CV Accuracy of RandomForestClassifier with number of split increased (=3) : {scores.mean()} (+/- {scores.std()})\")\n",
        "\n",
        "#Model RandomForestClassifier : number of splits has increased to 3\n",
        "model = RandomForestClassifier(n_estimators=1000, max_depth=None, min_samples_split=2, min_samples_leaf=1, max_features='auto', random_state=42)\n",
        "scores = cross_val_score(model, X, y, cv = 5)\n",
        "print(f\"5-fold CV Accuracy of RandomForestClassifier with number of estimators increased : {scores.mean()} (+/- {scores.std()})\")\n",
        "\n",
        "#Model RandomForestClassifier : number of splits has increased to 3\n",
        "model = RandomForestClassifier(n_estimators=100, max_depth=None, min_samples_split=2, min_samples_leaf=2, max_features='auto', random_state=42)\n",
        "scores = cross_val_score(model, X, y, cv = 5)\n",
        "print(f\"5-fold CV Accuracy of RandomForestClassifier with number of estimators increased : {scores.mean()} (+/- {scores.std()})\")\n",
        "\n",
        "\n",
        "#We observe that when we increase the minimum number of split at each node, the performance doesn't change much.\n",
        "#When we increase the number of estimators, the performance doesn't very either\n",
        "# One reason could be that this classifier is already very good. \n",
        "\n",
        "# We note that the accuracy slighly decreases if we make any changes from defualt parameters\n"
      ],
      "metadata": {
        "colab": {
          "base_uri": "https://localhost:8080/"
        },
        "id": "eXe0-ZVfzkRm",
        "outputId": "aa8f89d8-b85c-4b4b-ff88-4c9b8b71c0d0"
      },
      "execution_count": 34,
      "outputs": [
        {
          "output_type": "stream",
          "name": "stderr",
          "text": [
            "/usr/local/lib/python3.9/dist-packages/sklearn/ensemble/_forest.py:424: FutureWarning: `max_features='auto'` has been deprecated in 1.1 and will be removed in 1.3. To keep the past behaviour, explicitly set `max_features='sqrt'` or remove this parameter as it is also the default value for RandomForestClassifiers and ExtraTreesClassifiers.\n",
            "  warn(\n",
            "/usr/local/lib/python3.9/dist-packages/sklearn/ensemble/_forest.py:424: FutureWarning: `max_features='auto'` has been deprecated in 1.1 and will be removed in 1.3. To keep the past behaviour, explicitly set `max_features='sqrt'` or remove this parameter as it is also the default value for RandomForestClassifiers and ExtraTreesClassifiers.\n",
            "  warn(\n",
            "/usr/local/lib/python3.9/dist-packages/sklearn/ensemble/_forest.py:424: FutureWarning: `max_features='auto'` has been deprecated in 1.1 and will be removed in 1.3. To keep the past behaviour, explicitly set `max_features='sqrt'` or remove this parameter as it is also the default value for RandomForestClassifiers and ExtraTreesClassifiers.\n",
            "  warn(\n",
            "/usr/local/lib/python3.9/dist-packages/sklearn/ensemble/_forest.py:424: FutureWarning: `max_features='auto'` has been deprecated in 1.1 and will be removed in 1.3. To keep the past behaviour, explicitly set `max_features='sqrt'` or remove this parameter as it is also the default value for RandomForestClassifiers and ExtraTreesClassifiers.\n",
            "  warn(\n",
            "/usr/local/lib/python3.9/dist-packages/sklearn/ensemble/_forest.py:424: FutureWarning: `max_features='auto'` has been deprecated in 1.1 and will be removed in 1.3. To keep the past behaviour, explicitly set `max_features='sqrt'` or remove this parameter as it is also the default value for RandomForestClassifiers and ExtraTreesClassifiers.\n",
            "  warn(\n",
            "/usr/local/lib/python3.9/dist-packages/sklearn/ensemble/_forest.py:424: FutureWarning: `max_features='auto'` has been deprecated in 1.1 and will be removed in 1.3. To keep the past behaviour, explicitly set `max_features='sqrt'` or remove this parameter as it is also the default value for RandomForestClassifiers and ExtraTreesClassifiers.\n",
            "  warn(\n"
          ]
        },
        {
          "output_type": "stream",
          "name": "stdout",
          "text": [
            "5-fold CV Accuracy of RandomForestClassifier with default parameters: 0.9666666666666668 (+/- 0.02108185106778919)\n"
          ]
        },
        {
          "output_type": "stream",
          "name": "stderr",
          "text": [
            "/usr/local/lib/python3.9/dist-packages/sklearn/ensemble/_forest.py:424: FutureWarning: `max_features='auto'` has been deprecated in 1.1 and will be removed in 1.3. To keep the past behaviour, explicitly set `max_features='sqrt'` or remove this parameter as it is also the default value for RandomForestClassifiers and ExtraTreesClassifiers.\n",
            "  warn(\n",
            "/usr/local/lib/python3.9/dist-packages/sklearn/ensemble/_forest.py:424: FutureWarning: `max_features='auto'` has been deprecated in 1.1 and will be removed in 1.3. To keep the past behaviour, explicitly set `max_features='sqrt'` or remove this parameter as it is also the default value for RandomForestClassifiers and ExtraTreesClassifiers.\n",
            "  warn(\n",
            "/usr/local/lib/python3.9/dist-packages/sklearn/ensemble/_forest.py:424: FutureWarning: `max_features='auto'` has been deprecated in 1.1 and will be removed in 1.3. To keep the past behaviour, explicitly set `max_features='sqrt'` or remove this parameter as it is also the default value for RandomForestClassifiers and ExtraTreesClassifiers.\n",
            "  warn(\n",
            "/usr/local/lib/python3.9/dist-packages/sklearn/ensemble/_forest.py:424: FutureWarning: `max_features='auto'` has been deprecated in 1.1 and will be removed in 1.3. To keep the past behaviour, explicitly set `max_features='sqrt'` or remove this parameter as it is also the default value for RandomForestClassifiers and ExtraTreesClassifiers.\n",
            "  warn(\n"
          ]
        },
        {
          "output_type": "stream",
          "name": "stdout",
          "text": [
            "5-fold CV Accuracy of RandomForestClassifier with number of split increased (=3) : 0.9666666666666668 (+/- 0.02108185106778919)\n"
          ]
        },
        {
          "output_type": "stream",
          "name": "stderr",
          "text": [
            "/usr/local/lib/python3.9/dist-packages/sklearn/ensemble/_forest.py:424: FutureWarning: `max_features='auto'` has been deprecated in 1.1 and will be removed in 1.3. To keep the past behaviour, explicitly set `max_features='sqrt'` or remove this parameter as it is also the default value for RandomForestClassifiers and ExtraTreesClassifiers.\n",
            "  warn(\n",
            "/usr/local/lib/python3.9/dist-packages/sklearn/ensemble/_forest.py:424: FutureWarning: `max_features='auto'` has been deprecated in 1.1 and will be removed in 1.3. To keep the past behaviour, explicitly set `max_features='sqrt'` or remove this parameter as it is also the default value for RandomForestClassifiers and ExtraTreesClassifiers.\n",
            "  warn(\n",
            "/usr/local/lib/python3.9/dist-packages/sklearn/ensemble/_forest.py:424: FutureWarning: `max_features='auto'` has been deprecated in 1.1 and will be removed in 1.3. To keep the past behaviour, explicitly set `max_features='sqrt'` or remove this parameter as it is also the default value for RandomForestClassifiers and ExtraTreesClassifiers.\n",
            "  warn(\n",
            "/usr/local/lib/python3.9/dist-packages/sklearn/ensemble/_forest.py:424: FutureWarning: `max_features='auto'` has been deprecated in 1.1 and will be removed in 1.3. To keep the past behaviour, explicitly set `max_features='sqrt'` or remove this parameter as it is also the default value for RandomForestClassifiers and ExtraTreesClassifiers.\n",
            "  warn(\n",
            "/usr/local/lib/python3.9/dist-packages/sklearn/ensemble/_forest.py:424: FutureWarning: `max_features='auto'` has been deprecated in 1.1 and will be removed in 1.3. To keep the past behaviour, explicitly set `max_features='sqrt'` or remove this parameter as it is also the default value for RandomForestClassifiers and ExtraTreesClassifiers.\n",
            "  warn(\n"
          ]
        },
        {
          "output_type": "stream",
          "name": "stdout",
          "text": [
            "5-fold CV Accuracy of RandomForestClassifier with number of estimators increased : 0.96 (+/- 0.024944382578492935)\n"
          ]
        },
        {
          "output_type": "stream",
          "name": "stderr",
          "text": [
            "/usr/local/lib/python3.9/dist-packages/sklearn/ensemble/_forest.py:424: FutureWarning: `max_features='auto'` has been deprecated in 1.1 and will be removed in 1.3. To keep the past behaviour, explicitly set `max_features='sqrt'` or remove this parameter as it is also the default value for RandomForestClassifiers and ExtraTreesClassifiers.\n",
            "  warn(\n",
            "/usr/local/lib/python3.9/dist-packages/sklearn/ensemble/_forest.py:424: FutureWarning: `max_features='auto'` has been deprecated in 1.1 and will be removed in 1.3. To keep the past behaviour, explicitly set `max_features='sqrt'` or remove this parameter as it is also the default value for RandomForestClassifiers and ExtraTreesClassifiers.\n",
            "  warn(\n",
            "/usr/local/lib/python3.9/dist-packages/sklearn/ensemble/_forest.py:424: FutureWarning: `max_features='auto'` has been deprecated in 1.1 and will be removed in 1.3. To keep the past behaviour, explicitly set `max_features='sqrt'` or remove this parameter as it is also the default value for RandomForestClassifiers and ExtraTreesClassifiers.\n",
            "  warn(\n",
            "/usr/local/lib/python3.9/dist-packages/sklearn/ensemble/_forest.py:424: FutureWarning: `max_features='auto'` has been deprecated in 1.1 and will be removed in 1.3. To keep the past behaviour, explicitly set `max_features='sqrt'` or remove this parameter as it is also the default value for RandomForestClassifiers and ExtraTreesClassifiers.\n",
            "  warn(\n"
          ]
        },
        {
          "output_type": "stream",
          "name": "stdout",
          "text": [
            "5-fold CV Accuracy of RandomForestClassifier with number of estimators increased : 0.9666666666666668 (+/- 0.02108185106778919)\n"
          ]
        },
        {
          "output_type": "stream",
          "name": "stderr",
          "text": [
            "/usr/local/lib/python3.9/dist-packages/sklearn/ensemble/_forest.py:424: FutureWarning: `max_features='auto'` has been deprecated in 1.1 and will be removed in 1.3. To keep the past behaviour, explicitly set `max_features='sqrt'` or remove this parameter as it is also the default value for RandomForestClassifiers and ExtraTreesClassifiers.\n",
            "  warn(\n"
          ]
        }
      ]
    }
  ]
}